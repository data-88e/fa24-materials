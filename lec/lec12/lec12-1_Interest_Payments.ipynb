{
 "cells": [
  {
   "cell_type": "markdown",
   "metadata": {},
   "source": [
    "<table style=\"width: 100%;\">\n",
    "    <tr style=\"background-color: transparent;\"><td>\n",
    "        <img src=\"https://data-88e.github.io/assets/images/blue_text.png\" width=\"250px\" style=\"margin-left: 0;\" />\n",
    "    </td><td>\n",
    "        <p style=\"text-align: right; font-size: 10pt;\"><strong>Economic Models</strong>, Fall 2024<br>\n",
    "            Dr. Eric Van Dusen <br>\n",
    "      </p></td></tr>\n",
    "</table>"
   ]
  },
  {
   "cell_type": "code",
   "execution_count": null,
   "metadata": {},
   "outputs": [],
   "source": [
    "import numpy as np\n",
    "import matplotlib.pyplot as plt\n",
    "import ipywidgets as widgets\n",
    "from IPython.display import display\n",
    "import plotly.graph_objects as go"
   ]
  },
  {
   "cell_type": "markdown",
   "metadata": {},
   "source": [
    "## Mortgage Calculator\n",
    "\n",
    "Lets build some widgets to allow you to select the \n",
    "- Principal - amount of loan\n",
    "- Interestes Rate - annual interest rate\n",
    "- Years:  - Years of Loan term ( usually 30 or 15) \n",
    "\n",
    "You can consult BankRate to look up resonable rates\n",
    "https://www.bankrate.com/mortgages/mortgage-rates/"
   ]
  },
  {
   "cell_type": "code",
   "execution_count": null,
   "metadata": {},
   "outputs": [],
   "source": [
    "\n",
    "principal_widget = widgets.FloatSlider( value=200000, min=0, max=1000000, step=100, description='Principal:', readout_format='.0f', )\n",
    "annual_interest_rate_widget = widgets.FloatSlider( value=0.05, min=0, max=0.25, step=0.001, description='Interest Rate:', readout_format='.2f', )\n",
    "years_widget = widgets.IntSlider( value=30, min=1, max=50, step=1, description='Years:', readout_format='.0f', )\n",
    "\n",
    "display(principal_widget, annual_interest_rate_widget, years_widget)"
   ]
  },
  {
   "cell_type": "code",
   "execution_count": null,
   "metadata": {},
   "outputs": [],
   "source": [
    "#principal = 200000  \n",
    "#annual_interest_rate = 0.04  \n",
    "#years = 30  \n",
    "\n",
    "principal = principal_widget.value\n",
    "annual_interest_rate = annual_interest_rate_widget.value\n",
    "years = years_widget.value\n",
    "\n"
   ]
  },
  {
   "cell_type": "markdown",
   "metadata": {},
   "source": [
    "# Formula for Mortgage Payment \n",
    "\n",
    "$$ \\text{Monthly Payment} = \\frac{{\\text{Principal} \\cdot \\left(\\text{Monthly Interest Rate} \\cdot \\left(1 + \\text{Monthly Interest Rate}\\right)^{\\text{Number of Payments}}\\right)}}{{\\left(1 + \\text{Monthly Interest Rate}\\right)^{\\text{Number of Payments}} - 1}}\n",
    "$$\n",
    "\n",
    "## This is what we need to program into Python"
   ]
  },
  {
   "cell_type": "code",
   "execution_count": null,
   "metadata": {},
   "outputs": [],
   "source": [
    "# Calculate monthly interest rate and number of payments\n",
    "monthly_interest_rate = annual_interest_rate / 12\n",
    "num_payments = years * 12\n",
    "\n",
    "#Calculate monthly mortgage payment\n",
    "monthly_payment = principal * (monthly_interest_rate * (1 + monthly_interest_rate)**num_payments) / ((1 + monthly_interest_rate)**num_payments - 1)\n",
    "print('Monthly payment: $%.2f' % monthly_payment)\n",
    "print('Total payment: $%.2f' % (monthly_payment * num_payments))\n",
    "print('Total interest: $%.2f' % (monthly_payment * num_payments - principal))\n",
    "print('Total Principal: $%.2f' % principal)\n",
    "print('Interest to principal ratio: %.2f' % ((monthly_payment * num_payments - principal) / principal))"
   ]
  },
  {
   "cell_type": "markdown",
   "metadata": {},
   "source": [
    "## Lets Build a dataset of the payments over time\n",
    "- Each Monthly Payment has a share \n",
    "- Principal paid each month\n",
    "- Interest Payement eah month\n",
    "\n",
    "### if we build this right we can graph the payments over the life of the loan"
   ]
  },
  {
   "cell_type": "code",
   "execution_count": null,
   "metadata": {},
   "outputs": [],
   "source": [
    "payment_schedule = []\n",
    "principal_schedule = []\n",
    "interest_schedule = []\n",
    "\n",
    "\n",
    "remaining_balance = principal\n",
    "\n",
    "# This function will calculate the payments and share of interest and pricipal paid\n",
    "for month in range(1, num_payments + 1):\n",
    "    interest_payment = remaining_balance * monthly_interest_rate\n",
    "    principal_payment = monthly_payment - interest_payment\n",
    "    remaining_balance -= principal_payment\n",
    "    payment_schedule.append(monthly_payment)\n",
    "    principal_schedule.append(principal_payment)\n",
    "    interest_schedule.append(interest_payment)\n"
   ]
  },
  {
   "cell_type": "markdown",
   "metadata": {},
   "source": [
    "## Let's look at the composition of the first 5 and last 5 payments"
   ]
  },
  {
   "cell_type": "code",
   "execution_count": null,
   "metadata": {},
   "outputs": [],
   "source": [
    "print(\"\\nPayment Schedule for the first 5 months:\")\n",
    "for month in range(5):\n",
    "    print(f\"Month {month + 1}: Payment ${payment_schedule[month]:.2f} (Principal ${principal_schedule[month]:.2f}, Interest ${interest_schedule[month]:.2f})\")\n",
    "print(\"\\nPayment Schedule for the last 5 months:\")\n",
    "for month in range(num_payments - 5, num_payments):\n",
    "    print(f\"Month {month + 1}: Payment ${payment_schedule[month]:.2f} (Principal ${principal_schedule[month]:.2f}, Interest ${interest_schedule[month]:.2f})\")"
   ]
  },
  {
   "cell_type": "markdown",
   "metadata": {},
   "source": [
    "## Now we will plot these payments over the 360 months of payback"
   ]
  },
  {
   "cell_type": "code",
   "execution_count": null,
   "metadata": {},
   "outputs": [],
   "source": [
    "plot = go.Figure()\n",
    "plot.add_trace(go.Scatter(y=principal_schedule, name=\"Principal\"))\n",
    "plot.add_trace(go.Scatter(y=interest_schedule, name=\"Interest\"))\n",
    "plot.add_trace(go.Scatter(y=payment_schedule, name=\"Payment\"))\n",
    "plot.update_layout(title=\"Mortgage Amortization Schedule\", xaxis_title=\"Payment Number\", yaxis_title=\"Payment\")\n",
    "plot.show()"
   ]
  },
  {
   "cell_type": "markdown",
   "metadata": {},
   "source": [
    "## Let's do this for an investment instead of a mortgage\n",
    "### We will calculate the future value of an investment\n",
    "### Create widgets to specify the rates\n",
    "### Slightly different than the Lab"
   ]
  },
  {
   "cell_type": "code",
   "execution_count": null,
   "metadata": {},
   "outputs": [],
   "source": [
    "\n",
    "principal_widget = widgets.FloatSlider(value=1000, min=1, max=10000, step=1, description='Principal')\n",
    "rate_widget = widgets.FloatSlider(value=0.05, min=0.01, max=0.2, step=0.01, description='Interest Rate')\n",
    "time_widget = widgets.IntSlider(value=10, min=1, max=30, step=1, description='Time (Years)')\n",
    "n_widget = widgets.IntSlider(value=12, min=1, max=365, step=1, description='Compounding Frequency')\n",
    "display(principal_widget, rate_widget, time_widget, n_widget)\n"
   ]
  },
  {
   "cell_type": "markdown",
   "metadata": {},
   "source": [
    "# Define a function to calculate future value"
   ]
  },
  {
   "cell_type": "code",
   "execution_count": null,
   "metadata": {},
   "outputs": [],
   "source": [
    "def calculate_future_value(principal, rate, time, n):\n",
    "    years = np.arange(0, time + 1)\n",
    "    future_values = principal * (1 + rate / n) ** (n * years)\n",
    "    return years, future_values\n",
    "\n",
    "# Calculate and plot the future value of the investment\n",
    "years, future_values = calculate_future_value(principal_widget.value, rate_widget.value, time_widget.value, n_widget.value)\n",
    "\n",
    "print(\"At time = %d years, the future value of the investment is $%.2f\" % (time_widget.value, future_values[-1]))"
   ]
  },
  {
   "cell_type": "code",
   "execution_count": null,
   "metadata": {},
   "outputs": [],
   "source": [
    "# Plot the future value of the investment over time\n",
    "\n",
    "fig = go.Figure()\n",
    "fig.add_trace(go.Scatter(x=years, y=future_values, mode='lines'))\n",
    "fig.update_layout(title=\"Future Value Over Time\", xaxis_title=\"Years\", yaxis_title=\"Future Value\")\n",
    "fig.show()\n"
   ]
  },
  {
   "cell_type": "markdown",
   "metadata": {},
   "source": [
    "## Here is a couple more functions to compare mortgage terms\n",
    "\n",
    "### First to compare two different interest rates\n",
    "\n",
    "You can consult BankRate to look up resonable rates\n",
    "https://www.bankrate.com/mortgages/mortgage-rates/\n",
    "\n"
   ]
  },
  {
   "cell_type": "code",
   "execution_count": null,
   "metadata": {},
   "outputs": [],
   "source": [
    "principal_amount = 200000  # Principal amount of the loan\n",
    "loan_term_years = 30  # Loan term in years\n",
    "interest_rates_to_compare = [0.04, 0.08]  # Two different interest rates"
   ]
  },
  {
   "cell_type": "code",
   "execution_count": null,
   "metadata": {},
   "outputs": [],
   "source": [
    "def compare_interest_rates(principal, years, interest_rates):\n",
    "    results = []\n",
    "    \n",
    "    for rate in interest_rates:\n",
    "        monthly_interest_rate = rate / 12\n",
    "        num_payments = years * 12\n",
    "        monthly_payment = principal * (monthly_interest_rate * (1 + monthly_interest_rate)**num_payments) / ((1 + monthly_interest_rate)**num_payments - 1)\n",
    "        total_payment = monthly_payment * num_payments\n",
    "        total_interest_paid = total_payment - principal\n",
    "        interest_as_percent_of_payment = (total_interest_paid / total_payment) * 100\n",
    "\n",
    "        results.append({\n",
    "            \"interest_rate\": rate,\n",
    "            \"monthly_payment\": monthly_payment,\n",
    "            \"total_payment\": total_payment,\n",
    "            \"total_interest_paid\": total_interest_paid,\n",
    "            \"interest_as_percent_of_payment\": interest_as_percent_of_payment\n",
    "        })\n",
    "    \n",
    "    return results\n",
    "\n",
    "results = compare_interest_rates(principal_amount, loan_term_years, interest_rates_to_compare)\n",
    "\n",
    "for result in results:\n",
    "    print(f\"Interest Rate: {result['interest_rate'] * 100}%\")\n",
    "    print(f\"Monthly Payment: ${result['monthly_payment']:.2f}\")\n",
    "    print(f\"Total Payment: ${result['total_payment']:.2f}\")\n",
    "    print(f\"Total Interest Paid: ${result['total_interest_paid']:.2f}\")\n",
    "    print(f\"Interest as % of Payment: {result['interest_as_percent_of_payment']:.2f}%\")\n",
    "    print()\n",
    "\n"
   ]
  },
  {
   "cell_type": "markdown",
   "metadata": {},
   "source": [
    "## Redo to can compare two different loan terms"
   ]
  },
  {
   "cell_type": "code",
   "execution_count": null,
   "metadata": {},
   "outputs": [],
   "source": [
    "principal_amount = 200000  # Principal amount of the loan\n",
    "interest_rate = 0.05  # Annual interest rate (5%)\n",
    "loan_terms_to_compare = [15, 30] # Two most typical loan terms ( lengths) "
   ]
  },
  {
   "cell_type": "code",
   "execution_count": null,
   "metadata": {},
   "outputs": [],
   "source": [
    "def compare_loan_terms(principal, years, interest_rate):\n",
    "    results = []\n",
    "    \n",
    "    for loan_term in years:\n",
    "        # Calculate monthly interest rate and number of payments\n",
    "        monthly_interest_rate = interest_rate / 12\n",
    "        num_payments = loan_term * 12\n",
    "\n",
    "        # Calculate monthly mortgage payment\n",
    "        monthly_payment = principal * (monthly_interest_rate * (1 + monthly_interest_rate)**num_payments) / ((1 + monthly_interest_rate)**num_payments - 1)\n",
    "\n",
    "        # Calculate total payment and total interest paid\n",
    "        total_payment = monthly_payment * num_payments\n",
    "        total_interest_paid = total_payment - principal\n",
    "\n",
    "        # Calculate the total interest as a percentage of the total payment\n",
    "        interest_as_percent_of_payment = (total_interest_paid / total_payment) * 100\n",
    "\n",
    "        results.append({\n",
    "            \"loan_term\": loan_term,\n",
    "            \"monthly_payment\": monthly_payment,\n",
    "            \"total_payment\": total_payment,\n",
    "            \"total_interest_paid\": total_interest_paid,\n",
    "            \"interest_as_percent_of_payment\": interest_as_percent_of_payment\n",
    "        })\n",
    "    \n",
    "    return results\n",
    "\n",
    "# Example usage\n",
    "\n",
    "\n",
    "results = compare_loan_terms(principal_amount, loan_terms_to_compare, interest_rate)\n",
    "\n",
    "for result in results:\n",
    "    print(f\"Loan Term: {result['loan_term']} years\")\n",
    "    print(f\"Monthly Payment: ${result['monthly_payment']:.2f}\")\n",
    "    print(f\"Total Payment: ${result['total_payment']:.2f}\")\n",
    "    print(f\"Total Interest Paid: ${result['total_interest_paid']:.2f}\")\n",
    "    print(f\"Interest as % of Payment: {result['interest_as_percent_of_payment']:.2f}%\")\n",
    "    print()\n"
   ]
  },
  {
   "cell_type": "code",
   "execution_count": null,
   "metadata": {},
   "outputs": [],
   "source": []
  },
  {
   "cell_type": "code",
   "execution_count": null,
   "metadata": {},
   "outputs": [],
   "source": []
  },
  {
   "cell_type": "code",
   "execution_count": null,
   "metadata": {},
   "outputs": [],
   "source": []
  }
 ],
 "metadata": {
  "kernelspec": {
   "display_name": "base",
   "language": "python",
   "name": "python3"
  },
  "language_info": {
   "codemirror_mode": {
    "name": "ipython",
    "version": 3
   },
   "file_extension": ".py",
   "mimetype": "text/x-python",
   "name": "python",
   "nbconvert_exporter": "python",
   "pygments_lexer": "ipython3",
   "version": "3.8.15"
  }
 },
 "nbformat": 4,
 "nbformat_minor": 4
}
