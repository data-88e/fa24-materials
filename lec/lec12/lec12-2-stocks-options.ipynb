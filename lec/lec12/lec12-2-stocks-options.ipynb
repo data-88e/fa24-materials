{
 "cells": [
  {
   "cell_type": "markdown",
   "id": "80de2c5e",
   "metadata": {},
   "source": [
    "<table style=\"width: 100%;\">\n",
    "    <tr style=\"background-color: transparent;\"><td>\n",
    "        <img src=\"https://data-88e.github.io/assets/images/blue_text.png\" width=\"250px\" style=\"margin-left: 0;\" />\n",
    "    </td><td>\n",
    "        <p style=\"text-align: right; font-size: 10pt;\"><strong>Economic Models</strong>, Fall 2024<br>\n",
    "            Dr. Eric Van Dusen <br>\n",
    "        Sreeja Apparaju <br>\n",
    "        Kidong Kim</p></td></tr>\n",
    "</table>"
   ]
  },
  {
   "cell_type": "markdown",
   "id": "59ad95d7",
   "metadata": {},
   "source": [
    "# Lecture 11: Finance"
   ]
  },
  {
   "cell_type": "markdown",
   "id": "0ab4905c",
   "metadata": {},
   "source": [
    "## This notebook takes a look at some simple tools for looking at the stock market\n",
    " - Previously Yahooo finance had a free API for reading in historical data on stocks\n",
    " - However the Yahoo API got discontiued\n",
    " - An awesome quant made a python package that recreated this functionality by scraping the information\n",
    " \n",
    "Check out the documentation for [Yfinance package](https://pypi.org/project/yfinance/)"
   ]
  },
  {
   "cell_type": "markdown",
   "id": "f9027e53",
   "metadata": {},
   "source": [
    " The package - called yfinance is not on the datahub so first we need to install it"
   ]
  },
  {
   "cell_type": "code",
   "execution_count": null,
   "id": "7a6cd078",
   "metadata": {
    "scrolled": true
   },
   "outputs": [],
   "source": [
    "try:\n",
    "    import yfinance as yf\n",
    "except:\n",
    "    !pip install yfinance\n",
    "    import yfinance as yf"
   ]
  },
  {
   "cell_type": "code",
   "execution_count": null,
   "id": "9c3a30f1",
   "metadata": {},
   "outputs": [],
   "source": []
  },
  {
   "cell_type": "code",
   "execution_count": null,
   "id": "06c353af",
   "metadata": {},
   "outputs": [],
   "source": [
    "import numpy as np\n",
    "import pandas as pd\n",
    "import matplotlib\n",
    "import matplotlib.pyplot as plt\n",
    "from datetime import timedelta, date, datetime\n",
    "from ipywidgets import interact, interactive, fixed, interact_manual\n",
    "import ipywidgets as widgets\n",
    "from IPython.display import display\n",
    "import warnings\n",
    "from datascience import *\n",
    "warnings.filterwarnings('ignore')\n",
    "plt.style.use(\"seaborn-muted\")\n",
    "%matplotlib inline"
   ]
  },
  {
   "cell_type": "markdown",
   "id": "3caf6de7",
   "metadata": {},
   "source": [
    "## S&P 500 and the Nasdaq"
   ]
  },
  {
   "cell_type": "markdown",
   "id": "3bf1cb22",
   "metadata": {},
   "source": [
    "The yfinance package allows us to download by stock ticker and make a Pandas Dataframe - here we will pull in by the market-wide tickers for the S&P 500 and the Nasdaq"
   ]
  },
  {
   "cell_type": "code",
   "execution_count": null,
   "id": "0c8d3ab7",
   "metadata": {},
   "outputs": [],
   "source": [
    "data_SPNQ = yf.download((\"^GSPC\", '^IXIC'), start=\"1993-01-29\", end=\"2022-04-05\")"
   ]
  },
  {
   "cell_type": "markdown",
   "id": "852b16d7",
   "metadata": {},
   "source": [
    "The following section uses the dataframe to build out a new dataframe with returns - the amount earned each day on the previous days close"
   ]
  },
  {
   "cell_type": "code",
   "execution_count": null,
   "id": "c7cb5122",
   "metadata": {},
   "outputs": [],
   "source": [
    "# Select columns for S&P and Nasdaq\n",
    "data_SN = data_SPNQ.iloc[:, [2,3]]\n",
    "data_SP = data_SPNQ.iloc[:, 0].values  # Convert to numpy array for easier indexing\n",
    "data_NQ = data_SPNQ.iloc[:, 1].values\n",
    "\n",
    "# Calculate daily returns for SP and NQ\n",
    "dSP = [(data_SP[i+1] - data_SP[i]) / data_SP[i] * 100 for i in range(len(data_SP)-1)]\n",
    "dNQ = [(data_NQ[i+1] - data_NQ[i]) / data_NQ[i] * 100 for i in range(len(data_NQ)-1)]\n",
    "\n",
    "# Append the results to the DataFrame with correctly aligned lengths\n",
    "data_SN = data_SN.iloc[1:].copy()  # Shift to align with the calculated returns\n",
    "data_SN['SP Returns'] = dSP\n",
    "data_SN['NQ Returns'] = dNQ\n"
   ]
  },
  {
   "cell_type": "code",
   "execution_count": null,
   "id": "fc7d8df1",
   "metadata": {},
   "outputs": [],
   "source": [
    "data_SN = data_SPNQ.iloc[:, [2,3]]\n",
    "data_SP =data_SPNQ.iloc[:, 0]\n",
    "data_NQ = data_SPNQ.iloc[:, 1]\n",
    "dSP = np.array(len(data_SP)-1)\n",
    "for i in range(len(data_SP)-1):\n",
    "    dat = ((data_SP[i] - data_SP[i+1])/data_SP[i])*100\n",
    "    dSP = np.append(dSP,dat)\n",
    "dNQ = np.array(len(data_NQ)-1)\n",
    "for i in range(len(data_NQ)-1):\n",
    "    dat = ((data_NQ[i] - data_NQ[i+1])/data_NQ[i])*100\n",
    "    dNQ = np.append(dNQ,dat)\n",
    "data_SN['SP Returns'] = dSP\n",
    "data_SN['NQ Returns'] = dNQ"
   ]
  },
  {
   "cell_type": "code",
   "execution_count": null,
   "id": "a73805ee",
   "metadata": {
    "scrolled": true
   },
   "outputs": [],
   "source": [
    "data_SN.iloc[:,[0,1]].plot(color = ('blue', 'red'), figsize=(10,8), alpha =0.3);"
   ]
  },
  {
   "cell_type": "code",
   "execution_count": null,
   "id": "e8eaf8d2",
   "metadata": {},
   "outputs": [],
   "source": [
    "data_SN[['SP Returns', 'NQ Returns']].iloc[1:].plot(color = ('blue', 'red'), figsize=(10,8), alpha = 0.3);"
   ]
  },
  {
   "cell_type": "code",
   "execution_count": null,
   "id": "791a1375",
   "metadata": {},
   "outputs": [],
   "source": [
    "data_SN.iloc[:,[0,1]].plot(color = ('blue', 'red'), figsize=(10,8), alpha =0.3);"
   ]
  },
  {
   "cell_type": "code",
   "execution_count": null,
   "id": "aec9619f",
   "metadata": {},
   "outputs": [],
   "source": [
    "data_SN[['SP Returns', 'NQ Returns']].iloc[1:].plot(color = ('blue', 'red'), figsize=(10,8), alpha = 0.3);"
   ]
  },
  {
   "cell_type": "markdown",
   "id": "206aca46",
   "metadata": {},
   "source": [
    "## Let's dive deeper into the Yfinance API and and work with the data"
   ]
  },
  {
   "cell_type": "markdown",
   "id": "5b9ae369",
   "metadata": {},
   "source": [
    "First we will define three stocks that we want to look at more closely, and examine what sort of information we can get for each stock.  \n",
    "\n",
    "Lets look at \n",
    " - Twitter\n",
    " - Tesla\n",
    " - USO - an ETF (exchange traded fund) that tracks the price of oil "
   ]
  },
  {
   "cell_type": "code",
   "execution_count": null,
   "id": "598432cc",
   "metadata": {},
   "outputs": [],
   "source": [
    "#twitter_ticker = yf.Ticker(\"twtr\")\n",
    "#tesla_ticker = yf.Ticker(\"tsla\")\n",
    "apple_ticker = yf.Ticker(\"AAPL\")\n",
    "#microsoft_ticker = yf.Ticker(\"MSFT\")\n",
    "#google_ticker = yf.Ticker(\"GOOGL\")\n",
    "#amazon_ticker = yf.Ticker(\"amzn\")\n",
    "#uso_ticker = yf.Ticker(\"uso\")"
   ]
  },
  {
   "cell_type": "markdown",
   "id": "567a6ffa",
   "metadata": {},
   "source": [
    "There is actually a lot of information that yfinance API can provide for any equity.  In the example above we only downloaded the closing price for each of the indexes. "
   ]
  },
  {
   "cell_type": "markdown",
   "id": "35dd3171",
   "metadata": {},
   "source": [
    "## Let's extract the stock prices\n",
    "\n",
    "This will put the dates, prices, and volumes into a *Pandas* dataframe with the name of the stock"
   ]
  },
  {
   "cell_type": "code",
   "execution_count": null,
   "id": "7a76acf9",
   "metadata": {},
   "outputs": [],
   "source": [
    "#twitter = twitter_ticker.history(period=\"max\")\n",
    "#twitter_ticker = yf.Ticker(\"twtr\")\n",
    "\n",
    "apple = apple_ticker.history(period=\"max\")\n",
    "uso = uso_ticker.history(period=\"max\")"
   ]
  },
  {
   "cell_type": "code",
   "execution_count": null,
   "id": "ead7335d",
   "metadata": {},
   "outputs": [],
   "source": [
    "apple"
   ]
  },
  {
   "cell_type": "markdown",
   "id": "df73afb1",
   "metadata": {},
   "source": [
    "## QuantStats Package\n",
    "The same developer made a more recent package that draws on Yfinance but makes a whole set of summary tables \n",
    "\n",
    "Check out the documentation for the [QuantStats Package](https://pypi.org/project/QuantStats/)"
   ]
  },
  {
   "cell_type": "code",
   "execution_count": null,
   "id": "628c70cc",
   "metadata": {},
   "outputs": [],
   "source": [
    "try:\n",
    "    import quantstats as qs\n",
    "except:\n",
    "    !pip install quantstats\n",
    "    import quantstats as qs"
   ]
  },
  {
   "cell_type": "code",
   "execution_count": null,
   "id": "fd41b6ce",
   "metadata": {},
   "outputs": [],
   "source": [
    "import quantstats as qs\n",
    "\n",
    "# extend pandas functionality with metrics, etc.\n",
    "qs.extend_pandas()\n",
    "\n",
    "# fetch the daily returns for a stock\n",
    "stock = qs.utils.download_returns('AAPL')\n",
    "\n",
    "# show sharpe ratio\n",
    "qs.stats.sharpe(stock)\n",
    "\n",
    "# or using extend_pandas() :)\n",
    "stock.sharpe()"
   ]
  },
  {
   "cell_type": "markdown",
   "id": "3d7ee27a",
   "metadata": {},
   "source": [
    "### QuantStats can make a \"Snapshot\" of stock performance"
   ]
  },
  {
   "cell_type": "code",
   "execution_count": null,
   "id": "81b6f003",
   "metadata": {},
   "outputs": [],
   "source": [
    "qs.plots.snapshot(stock, title='Apple Performance')"
   ]
  },
  {
   "cell_type": "markdown",
   "id": "f7227106",
   "metadata": {},
   "source": [
    "## Relevant materials and sources"
   ]
  },
  {
   "cell_type": "markdown",
   "id": "8a1580e1",
   "metadata": {},
   "source": [
    "https://algotrading101.com/learn/yfinance-guide/ <br>\n",
    "https://pypi.org/ <br>\n",
    "https://pypi.org/project/QuantStats/"
   ]
  },
  {
   "cell_type": "markdown",
   "id": "503e8ed0",
   "metadata": {},
   "source": []
  }
 ],
 "metadata": {
  "kernelspec": {
   "display_name": "base",
   "language": "python",
   "name": "python3"
  },
  "language_info": {
   "codemirror_mode": {
    "name": "ipython",
    "version": 3
   },
   "file_extension": ".py",
   "mimetype": "text/x-python",
   "name": "python",
   "nbconvert_exporter": "python",
   "pygments_lexer": "ipython3",
   "version": "3.8.15"
  }
 },
 "nbformat": 4,
 "nbformat_minor": 5
}
