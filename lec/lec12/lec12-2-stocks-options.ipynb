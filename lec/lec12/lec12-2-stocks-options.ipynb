{
 "cells": [
  {
   "cell_type": "markdown",
   "id": "80de2c5e",
   "metadata": {},
   "source": [
    "<table style=\"width: 100%;\">\n",
    "    <tr style=\"background-color: transparent;\"><td>\n",
    "        <img src=\"https://data-88e.github.io/assets/images/blue_text.png\" width=\"250px\" style=\"margin-left: 0;\" />\n",
    "    </td><td>\n",
    "        <p style=\"text-align: right; font-size: 10pt;\"><strong>Economic Models</strong>, Fall 2024<br>\n",
    "            Dr. Eric Van Dusen <br>\n",
    "        Sreeja Apparaju <br>\n",
    "        Kidong Kim</p></td></tr>\n",
    "</table>"
   ]
  },
  {
   "cell_type": "markdown",
   "id": "59ad95d7",
   "metadata": {},
   "source": [
    "# Lecture 12: Finance"
   ]
  },
  {
   "cell_type": "markdown",
   "id": "0ab4905c",
   "metadata": {},
   "source": [
    "## This notebook takes a look at some simple tools for looking at the stock market\n",
    " - Previously Yahooo finance had a free API for reading in historical data on stocks\n",
    " - However the Yahoo API got discontiued\n",
    " - An awesome quant made a python package that recreated this functionality by scraping the information\n",
    " \n",
    "Check out the documentation for [Yfinance package](https://pypi.org/project/yfinance/)"
   ]
  },
  {
   "cell_type": "markdown",
   "id": "f9027e53",
   "metadata": {},
   "source": [
    " The package - called yfinance is not on the datahub so first we need to install it"
   ]
  },
  {
   "cell_type": "code",
   "execution_count": null,
   "id": "7a6cd078",
   "metadata": {
    "scrolled": true
   },
   "outputs": [],
   "source": [
    "try:\n",
    "    import yfinance as yf\n",
    "except:\n",
    "    !pip install yfinance\n",
    "    import yfinance as yf"
   ]
  },
  {
   "cell_type": "code",
   "execution_count": null,
   "id": "06c353af",
   "metadata": {},
   "outputs": [],
   "source": [
    "import numpy as np\n",
    "import pandas as pd\n",
    "import matplotlib\n",
    "import matplotlib.pyplot as plt\n",
    "from datetime import timedelta, date, datetime\n",
    "from ipywidgets import interact, interactive, fixed, interact_manual\n",
    "import ipywidgets as widgets\n",
    "from IPython.display import display\n",
    "import warnings\n",
    "from datascience import *\n",
    "warnings.filterwarnings('ignore')\n",
    "%matplotlib inline"
   ]
  },
  {
   "cell_type": "markdown",
   "id": "3caf6de7",
   "metadata": {},
   "source": [
    "## S&P 500 and the Nasdaq"
   ]
  },
  {
   "cell_type": "markdown",
   "id": "3bf1cb22",
   "metadata": {},
   "source": [
    "The yfinance package allows us to download by stock ticker and make a Pandas Dataframe - here we will pull in by the market-wide tickers for the S&P 500 and the Nasdaq"
   ]
  },
  {
   "cell_type": "code",
   "execution_count": null,
   "id": "0c8d3ab7",
   "metadata": {},
   "outputs": [],
   "source": [
    "data_SPNQ = yf.download((\"^GSPC\", '^IXIC'), start=\"1993-01-29\", end=\"2022-04-05\")"
   ]
  },
  {
   "cell_type": "markdown",
   "id": "852b16d7",
   "metadata": {},
   "source": [
    "The following section uses the dataframe to build out a new dataframe with returns - the amount earned each day on the previous days close"
   ]
  },
  {
   "cell_type": "code",
   "execution_count": null,
   "id": "fc7d8df1",
   "metadata": {},
   "outputs": [],
   "source": [
    "data_SN = data_SPNQ.iloc[:, [2,3]]\n",
    "data_SP =data_SPNQ.iloc[:, 0]\n",
    "data_NQ = data_SPNQ.iloc[:, 1]\n",
    "dSP = np.array(len(data_SP)-1)\n",
    "for i in range(len(data_SP)-1):\n",
    "    dat = ((data_SP[i] - data_SP[i+1])/data_SP[i])*100\n",
    "    dSP = np.append(dSP,dat)\n",
    "dNQ = np.array(len(data_NQ)-1)\n",
    "for i in range(len(data_NQ)-1):\n",
    "    dat = ((data_NQ[i] - data_NQ[i+1])/data_NQ[i])*100\n",
    "    dNQ = np.append(dNQ,dat)\n",
    "data_SN['SP Returns'] = dSP\n",
    "data_SN['NQ Returns'] = dNQ"
   ]
  },
  {
   "cell_type": "code",
   "execution_count": null,
   "id": "a73805ee",
   "metadata": {
    "scrolled": true
   },
   "outputs": [],
   "source": [
    "data_SN.iloc[:,[0,1]].plot(color = ('blue', 'red'), figsize=(10,8), alpha =0.3);"
   ]
  },
  {
   "cell_type": "code",
   "execution_count": null,
   "id": "e8eaf8d2",
   "metadata": {},
   "outputs": [],
   "source": [
    "data_SN[['SP Returns', 'NQ Returns']].iloc[1:].plot(color = ('blue', 'red'), figsize=(10,8), alpha = 0.3);"
   ]
  },
  {
   "cell_type": "code",
   "execution_count": null,
   "id": "791a1375",
   "metadata": {},
   "outputs": [],
   "source": [
    "data_SN.iloc[:,[0,1]].plot(color = ('blue', 'red'), figsize=(10,8), alpha =0.3);"
   ]
  },
  {
   "cell_type": "code",
   "execution_count": null,
   "id": "aec9619f",
   "metadata": {},
   "outputs": [],
   "source": [
    "data_SN[['SP Returns', 'NQ Returns']].iloc[1:].plot(color = ('blue', 'red'), figsize=(10,8), alpha = 0.3);"
   ]
  },
  {
   "cell_type": "markdown",
   "id": "206aca46",
   "metadata": {},
   "source": [
    "## Let's dive deeper into the Yfinance API and and work with the data"
   ]
  },
  {
   "cell_type": "markdown",
   "id": "5b9ae369",
   "metadata": {},
   "source": [
    "First we will define three stocks that we want to look at more closely, and examine what sort of information we can get for each stock.  \n",
    "\n",
    "Lets look at \n",
    " - Twitter\n",
    " - Tesla\n",
    " - USO - an ETF (exchange traded fund) that tracks the price of oil "
   ]
  },
  {
   "cell_type": "code",
   "execution_count": null,
   "id": "598432cc",
   "metadata": {},
   "outputs": [],
   "source": [
    "twitter_ticker = yf.Ticker(\"twtr\")\n",
    "tesla_ticker = yf.Ticker(\"tsla\")\n",
    "uso_ticker = yf.Ticker(\"uso\")"
   ]
  },
  {
   "cell_type": "markdown",
   "id": "567a6ffa",
   "metadata": {},
   "source": [
    "There is actually a lot of information that yfinance API can provide for any equity.  In the example above we only downloaded the closing price for each of the indexes. "
   ]
  },
  {
   "cell_type": "code",
   "execution_count": null,
   "id": "39dfb26e",
   "metadata": {},
   "outputs": [],
   "source": [
    "#tesla_ticker.info"
   ]
  },
  {
   "cell_type": "markdown",
   "id": "35dd3171",
   "metadata": {},
   "source": [
    "## Out of all this info - let's extract the stock prices\n",
    "\n",
    "This will put the dates, prices, and volumes into a *Pandas* dataframe with the name of the stock"
   ]
  },
  {
   "cell_type": "code",
   "execution_count": null,
   "id": "7a76acf9",
   "metadata": {},
   "outputs": [],
   "source": [
    "#twitter = twitter_ticker.history(period=\"max\")\n",
    "tesla = tesla_ticker.history(period=\"max\")\n",
    "uso = uso_ticker.history(period=\"max\")"
   ]
  },
  {
   "cell_type": "code",
   "execution_count": null,
   "id": "ead7335d",
   "metadata": {},
   "outputs": [],
   "source": [
    "tesla"
   ]
  },
  {
   "cell_type": "markdown",
   "id": "3ec4cd09",
   "metadata": {},
   "source": [
    "## Lets look at the market for Options for Twitter \n",
    " - This will show us the possible strike dates for different options\n",
    " - From short term - this week - to long term - in two years\n"
   ]
  },
  {
   "cell_type": "code",
   "execution_count": null,
   "id": "e09b526d",
   "metadata": {},
   "outputs": [],
   "source": [
    "tesla_ticker.options"
   ]
  },
  {
   "cell_type": "markdown",
   "id": "04166150",
   "metadata": {},
   "source": [
    "## Downloading Calls and Puts \n",
    "Let's download all of the Calls and Puts for Tesla  into two tables "
   ]
  },
  {
   "cell_type": "code",
   "execution_count": null,
   "id": "2343adce-4464-4a05-97a0-23906888b1e9",
   "metadata": {},
   "outputs": [],
   "source": [
    "tesla_options = tesla_ticker.option_chain(tesla_ticker.options[0])"
   ]
  },
  {
   "cell_type": "code",
   "execution_count": null,
   "id": "dc7dcd51-064e-4811-b4a6-e80b0fb78c11",
   "metadata": {},
   "outputs": [],
   "source": [
    "tesla_options.calls"
   ]
  },
  {
   "cell_type": "code",
   "execution_count": null,
   "id": "67c155b9",
   "metadata": {},
   "outputs": [],
   "source": [
    "# Returns two table 0 : calls, 1 : puts\n",
    "tesla_options = tesla_ticker.option_chain(tesla_ticker.options[0])\n",
    "tesla_put , tesla_call = tesla_options.puts, tesla_options.calls\n",
    "relevant_columns = ['lastPrice', 'change', 'percentChange', 'volume', 'strike']\n",
    "tesla_put, tesla_call = tesla_put[relevant_columns], tesla_call[relevant_columns]\n",
    "tesla_put.describe(), tesla_call.describe()"
   ]
  },
  {
   "cell_type": "markdown",
   "id": "61090a3d",
   "metadata": {},
   "source": [
    "## Let's put these together into a joint table that are joined by the strike price"
   ]
  },
  {
   "cell_type": "code",
   "execution_count": null,
   "id": "cd33c5a5",
   "metadata": {},
   "outputs": [],
   "source": [
    "tesla_option = pd.merge(tesla_put, tesla_call, how='inner', on = \"strike\")\n",
    "#tesla_option = pd.merge(tesla_put, tesla_call, how='outer', on = \"strike\")\n",
    "tesla_option[12:32]"
   ]
  },
  {
   "cell_type": "markdown",
   "id": "c75b17ae",
   "metadata": {},
   "source": [
    "## Now lets code up a graph of the puts and calls for Tesla"
   ]
  },
  {
   "cell_type": "code",
   "execution_count": null,
   "id": "8f8d37b1",
   "metadata": {},
   "outputs": [],
   "source": [
    "current_tesla_p = tesla.iloc[-1]['Close']\n",
    "current_tesla_p\n",
    "\n",
    "plt.figure().set_size_inches(15, 5)\n",
    "\n",
    "plt.title(\"Tesla calls vs puts\",  fontsize=15)\n",
    "\n",
    "plt.plot(tesla_option['strike'], tesla_option['lastPrice_x'], color='r', label='call', linewidth=3)\n",
    "plt.plot(tesla_option['strike'], tesla_option['lastPrice_y'], color='b', label='put', linewidth=3)\n",
    "plt.axvline(x = current_tesla_p, color = 'g', label = 'Current Price', linewidth=4) #Current Price\n",
    "\n",
    "plt.axis([tesla_option['strike'].iloc[0], tesla_option['strike'].iloc[-1], 0, max(max(tesla_option['lastPrice_x']), max(tesla_option['lastPrice_y']))])\n",
    "plt.legend()"
   ]
  },
  {
   "cell_type": "code",
   "execution_count": null,
   "id": "1c5bf9ce",
   "metadata": {},
   "outputs": [],
   "source": [
    "def option(ticker):\n",
    "  options_obj = ticker.option_chain(ticker.options[0])\n",
    "  put, call = options_obj.puts, options_obj.calls\n",
    "  relevant_columns = ['lastPrice', 'change', 'percentChange', 'volume', 'strike']\n",
    "  put, call = put[relevant_columns], call[relevant_columns]\n",
    "  option_sheet = pd.merge(put, call, how='inner', on = \"strike\")\n",
    "  return option_sheet\n",
    "\n",
    "option(uso_ticker)"
   ]
  },
  {
   "cell_type": "markdown",
   "id": "df73afb1",
   "metadata": {},
   "source": [
    "## QuantStats Package\n",
    "The same developer made a more recent package that draws on Yfinance but makes a whole set of summary tables \n",
    "\n",
    "Check out the documentation for the [QuantStats Package](https://pypi.org/project/QuantStats/)"
   ]
  },
  {
   "cell_type": "code",
   "execution_count": null,
   "id": "628c70cc",
   "metadata": {},
   "outputs": [],
   "source": [
    "try:\n",
    "    import quantstats as qs\n",
    "except:\n",
    "    !pip install quantstats\n",
    "    import quantstats as qs"
   ]
  },
  {
   "cell_type": "code",
   "execution_count": null,
   "id": "fd41b6ce",
   "metadata": {},
   "outputs": [],
   "source": [
    "import quantstats as qs\n",
    "\n",
    "# extend pandas functionality with metrics, etc.\n",
    "qs.extend_pandas()\n",
    "\n",
    "# fetch the daily returns for a stock\n",
    "stock = qs.utils.download_returns('TSLA')\n",
    "\n",
    "# show sharpe ratio\n",
    "qs.stats.sharpe(stock)\n",
    "\n",
    "# or using extend_pandas() :)\n",
    "stock.sharpe()"
   ]
  },
  {
   "cell_type": "markdown",
   "id": "3d7ee27a",
   "metadata": {},
   "source": [
    "### QuantStats can make a \"Snapshot\" of stock performance"
   ]
  },
  {
   "cell_type": "code",
   "execution_count": null,
   "id": "81b6f003",
   "metadata": {},
   "outputs": [],
   "source": [
    "qs.plots.snapshot(stock, title='Tesla Performance')"
   ]
  },
  {
   "cell_type": "markdown",
   "id": "f7227106",
   "metadata": {},
   "source": [
    "## Relevant materials and sources"
   ]
  },
  {
   "cell_type": "markdown",
   "id": "8a1580e1",
   "metadata": {},
   "source": [
    "https://algotrading101.com/learn/yfinance-guide/ <br>\n",
    "https://pypi.org/ <br>\n",
    "https://pypi.org/project/QuantStats/"
   ]
  }
 ],
 "metadata": {
  "kernelspec": {
   "display_name": "Python 3 (ipykernel)",
   "language": "python",
   "name": "python3"
  },
  "language_info": {
   "codemirror_mode": {
    "name": "ipython",
    "version": 3
   },
   "file_extension": ".py",
   "mimetype": "text/x-python",
   "name": "python",
   "nbconvert_exporter": "python",
   "pygments_lexer": "ipython3",
   "version": "3.12.7"
  }
 },
 "nbformat": 4,
 "nbformat_minor": 5
}
