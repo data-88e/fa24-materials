{
 "cells": [
  {
   "cell_type": "markdown",
   "metadata": {},
   "source": [
    "<table style=\"width: 100%;\" id=\"nb-header\">\n",
    "    <tr style=\"background-color: transparent;\"><td>\n",
    "        <img src=\"https://data-88e.github.io/assets/images/blue_text.png\" width=\"250px\" style=\"margin-left: 0;\" />\n",
    "    </td><td>\n",
    "        <p style=\"text-align: right; font-size: 10pt;\"><strong>Economic Models</strong>, Fall 24 <br>\n",
    "            Dr. Eric Van Dusen \n",
    "        <br>\n",
    "</table>"
   ]
  },
  {
   "cell_type": "code",
   "execution_count": null,
   "metadata": {},
   "outputs": [],
   "source": [
    "from datascience import Table\n",
    "import numpy as np\n",
    "import matplotlib.pyplot as plt\n",
    "import ipywidgets as widgets\n",
    "from IPython.display import display\n",
    "%matplotlib inline"
   ]
  },
  {
   "cell_type": "code",
   "execution_count": null,
   "metadata": {},
   "outputs": [],
   "source": [
    "try: import yfinance as yf\n",
    "except: \n",
    "    !pip install yfinance\n",
    "    import yfinance as yf"
   ]
  },
  {
   "cell_type": "markdown",
   "metadata": {},
   "source": [
    "## Personal Finance Demo \n",
    "\n",
    "### This notebook will demonstrate some basic concepts in personal finance, over time, using Python.\n",
    " - Rate of Savings\n",
    " - Impact of Fees on Returns over Time\n",
    " - Monte Carlo Simulation of Retirement Savings\n",
    " - Historical Returns of Stocks and Bonds\n",
    "\n",
    "\n",
    " The notebook will also motivate the use of widgets in Jupyter notebooks to interact with the data and see the impact of different parameters on the results.\n",
    "\n",
    " ### Part 1: Rate of Savings"
   ]
  },
  {
   "cell_type": "code",
   "execution_count": null,
   "metadata": {},
   "outputs": [],
   "source": [
    "annual_income_widget = widgets.FloatText(\n",
    "    value=50000,\n",
    "    description='Annual Income:',\n",
    "    style={'description_width': 'initial'}\n",
    ")\n",
    "\n",
    "savings_rate_widget = widgets.FloatSlider(\n",
    "    value=0.2,\n",
    "    min=0,\n",
    "    max=1,\n",
    "    step=0.01,\n",
    "    description='Savings Rate (%):',\n",
    "    style={'description_width': 'initial'}\n",
    ")\n",
    "\n",
    "years_widget = widgets.IntSlider(\n",
    "    value=30,\n",
    "    min=1,\n",
    "    max=50,\n",
    "    step=1,\n",
    "    description='Years:',\n",
    "    style={'description_width': 'initial'}\n",
    ")\n",
    "\n",
    "annual_return_widget = widgets.FloatSlider(\n",
    "    value=0.05,\n",
    "    min=0,\n",
    "    max=0.2,\n",
    "    step=0.01,\n",
    "    description='Annual Return (%):',\n",
    "    style={'description_width': 'initial'}\n",
    ")\n",
    "display(annual_income_widget, savings_rate_widget, years_widget, annual_return_widget)"
   ]
  },
  {
   "cell_type": "markdown",
   "metadata": {},
   "source": [
    "Save these values as variables\n"
   ]
  },
  {
   "cell_type": "code",
   "execution_count": null,
   "metadata": {},
   "outputs": [],
   "source": [
    "annual_income = annual_income_widget.value\n",
    "savings_rate = savings_rate_widget.value\n",
    "years = years_widget.value\n",
    "annual_return = annual_return_widget.value"
   ]
  },
  {
   "cell_type": "markdown",
   "metadata": {},
   "source": [
    "Set a formula for the rate of savings\n"
   ]
  },
  {
   "cell_type": "code",
   "execution_count": null,
   "metadata": {},
   "outputs": [],
   "source": [
    "annual_savings = annual_income * savings_rate"
   ]
  },
  {
   "cell_type": "markdown",
   "metadata": {},
   "source": [
    "Create an array of years "
   ]
  },
  {
   "cell_type": "code",
   "execution_count": null,
   "metadata": {},
   "outputs": [],
   "source": [
    "years_array = np.arange(1, years + 1)\n",
    "savings_growth = []"
   ]
  },
  {
   "cell_type": "markdown",
   "metadata": {},
   "source": [
    "Calculate the savings for each year, create total savings appending each year's savings to the previous year's savings"
   ]
  },
  {
   "cell_type": "code",
   "execution_count": null,
   "metadata": {},
   "outputs": [],
   "source": [
    "total_savings = 0\n",
    "for year in years_array:\n",
    "    # Add annual savings and apply growth\n",
    "    total_savings += annual_savings\n",
    "    total_savings *= (1 + annual_return)\n",
    "    savings_growth.append(total_savings)"
   ]
  },
  {
   "cell_type": "markdown",
   "metadata": {},
   "source": [
    "Create a Table to store the results"
   ]
  },
  {
   "cell_type": "code",
   "execution_count": null,
   "metadata": {},
   "outputs": [],
   "source": [
    "savings_table = Table().with_columns(\n",
    "    \"Year\", years_array,\n",
    "    \"Total Savings ($)\", savings_growth\n",
    ")\n",
    "\n",
    "savings_table"
   ]
  },
  {
   "cell_type": "code",
   "execution_count": null,
   "metadata": {},
   "outputs": [],
   "source": [
    "\n",
    "plt.figure(figsize=(10, 6))\n",
    "plt.plot(years_array, savings_growth, marker='o')\n",
    "plt.title(\"Savings Growth Over Time\")\n",
    "plt.xlabel(\"Years\")\n",
    "plt.ylabel(\"Total Savings ($)\")\n",
    "plt.grid(True)\n",
    "plt.show()"
   ]
  },
  {
   "cell_type": "markdown",
   "metadata": {},
   "source": [
    "## Part 2 - Retirement Planning & Fees on Investments\n"
   ]
  },
  {
   "cell_type": "code",
   "execution_count": null,
   "metadata": {},
   "outputs": [],
   "source": [
    "initial_investment_widget = widgets.FloatText(\n",
    "    value=10000,\n",
    "    description='Initial Investment ($):',\n",
    "    style={'description_width': 'initial'}\n",
    ")\n",
    "\n",
    "annual_return_widget_fee = widgets.FloatSlider(\n",
    "    value=0.07,\n",
    "    min=0,\n",
    "    max=0.2,\n",
    "    step=0.01,\n",
    "    description='Annual Return (%):',\n",
    "    style={'description_width': 'initial'}\n",
    ")\n",
    "\n",
    "years_widget_fee = widgets.IntSlider(\n",
    "    value=30,\n",
    "    min=1,\n",
    "    max=50,\n",
    "    step=1,\n",
    "    description='Investment Duration (Years):',\n",
    "    style={'description_width': 'initial'}\n",
    ")\n",
    "\n",
    "fee_percentage_widget = widgets.FloatSlider(\n",
    "    value=0.01,\n",
    "    min=0,\n",
    "    max=0.05,\n",
    "    step=0.005,\n",
    "    description='Annual Fee (%):',\n",
    "    style={'description_width': 'initial'}\n",
    ")\n",
    "second_fee_percentage_widget = widgets.FloatSlider(\n",
    "    value=0.02,\n",
    "    min=0,\n",
    "    max=0.05,\n",
    "    step=0.005,\n",
    "    description='Annual Fee Comparison (%):',\n",
    "    style={'description_width': 'initial'}\n",
    ")\n",
    "\n",
    "display(initial_investment_widget, annual_return_widget_fee, years_widget_fee, fee_percentage_widget, second_fee_percentage_widget)\n"
   ]
  },
  {
   "cell_type": "markdown",
   "metadata": {},
   "source": [
    "Retrieve widget values for calculations"
   ]
  },
  {
   "cell_type": "code",
   "execution_count": null,
   "metadata": {},
   "outputs": [],
   "source": [
    "initial_investment = initial_investment_widget.value\n",
    "annual_return = annual_return_widget_fee.value\n",
    "years = years_widget_fee.value\n",
    "annual_fee = fee_percentage_widget.value\n",
    "annual_fee_2 = second_fee_percentage_widget.value"
   ]
  },
  {
   "cell_type": "markdown",
   "metadata": {},
   "source": [
    "Initialize arrays for growth with and without fees\n",
    "\n",
    "Set starting values for investments"
   ]
  },
  {
   "cell_type": "code",
   "execution_count": null,
   "metadata": {},
   "outputs": [],
   "source": [
    "years_array = np.arange(1, years + 1)\n",
    "growth_without_fees = []\n",
    "growth_with_fee_1 = []\n",
    "growth_with_fee_2 = []\n",
    "\n",
    "investment_without_fees = initial_investment\n",
    "investment_with_fee_1 = initial_investment\n",
    "investment_with_fee_2 = initial_investment"
   ]
  },
  {
   "cell_type": "markdown",
   "metadata": {},
   "source": [
    "Build a growth path for the three options"
   ]
  },
  {
   "cell_type": "code",
   "execution_count": null,
   "metadata": {},
   "outputs": [],
   "source": [
    "for year in years_array:\n",
    "    # Growth without fees\n",
    "    investment_without_fees *= (1 + annual_return)\n",
    "    growth_without_fees.append(investment_without_fees)\n",
    "\n",
    "    # Growth with fee 1\n",
    "    net_return_1 = annual_return - annual_fee\n",
    "    investment_with_fee_1 *= (1 + net_return_1)\n",
    "    growth_with_fee_1.append(investment_with_fee_1)\n",
    "\n",
    "    # Growth with fee 2\n",
    "    net_return_2 = annual_return - annual_fee_2\n",
    "    investment_with_fee_2 *= (1 + net_return_2)\n",
    "    growth_with_fee_2.append(investment_with_fee_2)\n",
    "\n"
   ]
  },
  {
   "cell_type": "markdown",
   "metadata": {},
   "source": [
    "Create a Table to store the results"
   ]
  },
  {
   "cell_type": "code",
   "execution_count": null,
   "metadata": {},
   "outputs": [],
   "source": [
    "fees_table = Table().with_columns(\n",
    "    \"Year\", years_array,\n",
    "    \"Growth Without Fees ($)\", growth_without_fees,\n",
    "    \"Growth With Fees ($)\", growth_with_fee_1,\n",
    "    \"Growth With Fees 2 ($)\", growth_with_fee_2\n",
    ")\n",
    "\n",
    "\n",
    "fees_table.show()"
   ]
  },
  {
   "cell_type": "code",
   "execution_count": null,
   "metadata": {},
   "outputs": [],
   "source": [
    "# Plot the growth over time\n",
    "plt.figure(figsize=(10, 6))\n",
    "plt.plot(years_array, growth_without_fees, label=\"Without Fees\", marker='o')\n",
    "plt.plot(years_array, growth_with_fee_1, label=f\"With Fees ({annual_fee*100:.2f}%)\", marker='o', linestyle='--')\n",
    "plt.plot(years_array, growth_with_fee_2, label=f\"With Fee 2 ({annual_fee_2*100:.2f}%)\", marker='o', linestyle=':')\n",
    "plt.title(\"Investment Growth Over Time with and without Fees\")\n",
    "plt.xlabel(\"Years\")\n",
    "plt.ylabel(\"Investment Value ($)\")\n",
    "plt.legend()\n",
    "plt.grid(True)\n",
    "plt.show()"
   ]
  },
  {
   "cell_type": "code",
   "execution_count": null,
   "metadata": {},
   "outputs": [],
   "source": []
  },
  {
   "cell_type": "markdown",
   "metadata": {},
   "source": [
    "## Part 3: Allocation of Assets \n",
    "\n",
    "Let's simulate the impact of different asset allocations on the growth of investments over time.\n",
    "\n",
    "In this example we will consider two asset classes: Stocks and Bonds.\n",
    "\n",
    "We will use a simple model of the growth of investments in each asset class over time but with variable returns in each time period.\n",
    "\n",
    "This model will be for a one time initial investment, but we will simulate the growth over multiple time periods.\n",
    "\n",
    "Set up the widgets"
   ]
  },
  {
   "cell_type": "code",
   "execution_count": null,
   "metadata": {},
   "outputs": [],
   "source": [
    "initial_investment_widget_alloc = widgets.FloatText(\n",
    "    value=10000,\n",
    "    description='Initial Investment ($):',\n",
    "    style={'description_width': 'initial'}\n",
    ")\n",
    "\n",
    "years_widget_alloc = widgets.IntSlider(\n",
    "    value=30,\n",
    "    min=1,\n",
    "    max=50,\n",
    "    step=1,\n",
    "    description='Investment Duration (Years):',\n",
    "    style={'description_width': 'initial'}\n",
    ")\n",
    "\n",
    "stock_allocation_widget = widgets.FloatSlider(\n",
    "    value=0.6,\n",
    "    min=0,\n",
    "    max=1,\n",
    "    step=0.05,\n",
    "    description='Stock Allocation (%):',\n",
    "    style={'description_width': 'initial'}\n",
    ")\n",
    "\n",
    "\n",
    "display(initial_investment_widget_alloc, years_widget_alloc, stock_allocation_widget)\n"
   ]
  },
  {
   "cell_type": "markdown",
   "metadata": {},
   "source": [
    "Set up average returns and standard deviations for stocks and bonds\n",
    "\n",
    "( these are hard coded for now - but could be widgets as well)"
   ]
  },
  {
   "cell_type": "code",
   "execution_count": null,
   "metadata": {},
   "outputs": [],
   "source": [
    "average_stock_return = 0.08 # 8% average annual return for stocks\n",
    "average_bond_return = 0.03 # 3% average annual return for bonds\n",
    "std_dev_stock = 0.15  # 15% annual standard deviation for stocks\n",
    "std_dev_bond = 0.05   # 5% annual standard deviation for bonds"
   ]
  },
  {
   "cell_type": "code",
   "execution_count": null,
   "metadata": {},
   "outputs": [],
   "source": [
    "initial_investment = initial_investment_widget_alloc.value\n",
    "years = years_widget_alloc.value\n",
    "stock_allocation = stock_allocation_widget.value\n",
    "bond_allocation = 1 - stock_allocation"
   ]
  },
  {
   "cell_type": "code",
   "execution_count": null,
   "metadata": {},
   "outputs": [],
   "source": [
    "years_array = np.arange(1, years + 1)\n",
    "growth_allocation = []"
   ]
  },
  {
   "cell_type": "markdown",
   "metadata": {},
   "source": [
    "Calculate growth based on random returns derived from asset allocation\n",
    "\n",
    "This will use the command 'np.random.normal' to generate random returns based on the average and standard deviation of returns for stocks and bonds\n",
    "\n",
    "The arguments to 'np.random.normal' are the average return, the standard deviation of returns, that we hard coded above.\n",
    "\n",
    "Think about it as each year the return is a random number drawn from a normal distribution with the average return and standard deviation we set above.\n",
    "\n",
    "This will create a random path of returns for each year, as we rerun the cell, we will get a different path of returns.  We could set a seed to get the same path of returns each time.\n",
    "\n",
    "\n"
   ]
  },
  {
   "cell_type": "code",
   "execution_count": null,
   "metadata": {},
   "outputs": [],
   "source": [
    "#set_seed(42)\n",
    "investment_value = initial_investment\n",
    "for year in years_array:\n",
    "    stock_return = np.random.normal(average_stock_return, std_dev_stock)\n",
    "    bond_return = np.random.normal(average_bond_return, std_dev_bond)\n",
    "    \n",
    "    # Calculate the portfolio's annual return based on the allocation\n",
    "    portfolio_return = (stock_allocation * stock_return) + (bond_allocation * bond_return)\n",
    "    \n",
    "    # Update the investment value based on the portfolio return\n",
    "    investment_value *= (1 + portfolio_return)\n",
    "    growth_allocation.append(investment_value)"
   ]
  },
  {
   "cell_type": "markdown",
   "metadata": {},
   "source": [
    "Create a Table to store the results\n"
   ]
  },
  {
   "cell_type": "code",
   "execution_count": null,
   "metadata": {},
   "outputs": [],
   "source": [
    "allocation_table = Table().with_columns(\n",
    "    \"Year\", years_array,\n",
    "    f\"Growth with {stock_allocation*100:.0f}% Stocks / {bond_allocation*100:.0f}% Bonds ($)\", growth_allocation\n",
    ")\n",
    "\n",
    "# Display the table\n",
    "allocation_table.show()"
   ]
  },
  {
   "cell_type": "code",
   "execution_count": null,
   "metadata": {},
   "outputs": [],
   "source": [
    "\n",
    "plt.figure(figsize=(10, 6))\n",
    "plt.plot(years_array, growth_allocation, label=f\"{stock_allocation*100:.0f}% Stocks / {bond_allocation*100:.0f}% Bonds\", marker='o')\n",
    "plt.title(\"Investment Growth Over Time with Asset Allocation (Including Volatility)\")\n",
    "plt.xlabel(\"Years\")\n",
    "plt.ylabel(\"Investment Value ($)\")\n",
    "plt.legend()\n",
    "plt.grid(True)\n",
    "plt.show()\n"
   ]
  },
  {
   "cell_type": "markdown",
   "metadata": {},
   "source": [
    "## Part 4 Monte Carlo Simulation\n",
    "What is the role of uncertainty in financial planning?\n",
    "\n",
    "In the previous example, we have a single path for the growth of investments. However, in reality, the growth of investments is more complicated! \n",
    "\n",
    "We can use Monte Carlo simulation to simulate the growth of investments over time. This would allow us to see the range of possible outcomes for our investments.  Think of it as generating many paths of returns and seeing the range of outcomes.  This is a powerful tool for financial planning."
   ]
  },
  {
   "cell_type": "markdown",
   "metadata": {},
   "source": [
    "Step 1 - Set up the widgets\n",
    "\n",
    "We can add a widget for the number of simulations we want to run.  This will allow us to see the range of outcomes for our investments."
   ]
  },
  {
   "cell_type": "code",
   "execution_count": null,
   "metadata": {},
   "outputs": [],
   "source": [
    "initial_investment_widget_alloc = widgets.FloatText(\n",
    "    value=10000,\n",
    "    description='Initial Investment ($):',\n",
    "    style={'description_width': 'initial'}\n",
    ")\n",
    "\n",
    "years_widget_alloc = widgets.IntSlider(\n",
    "    value=30,\n",
    "    min=1,\n",
    "    max=50,\n",
    "    step=1,\n",
    "    description='Investment Duration (Years):',\n",
    "    style={'description_width': 'initial'}\n",
    ")\n",
    "\n",
    "stock_allocation_widget = widgets.FloatSlider(\n",
    "    value=0.6,\n",
    "    min=0,\n",
    "    max=1,\n",
    "    step=0.05,\n",
    "    description='Stock Allocation (%):',\n",
    "    style={'description_width': 'initial'}\n",
    ")\n",
    "\n",
    "simulations_widget = widgets.IntSlider(\n",
    "    value=1000,\n",
    "    min=100,\n",
    "    max=5000,\n",
    "    step=100,\n",
    "    description='Number of Simulations:',\n",
    "    style={'description_width': 'initial'}\n",
    ")\n",
    "\n",
    "# Display the widgets\n",
    "display(initial_investment_widget_alloc, years_widget_alloc, stock_allocation_widget, simulations_widget)\n"
   ]
  },
  {
   "cell_type": "markdown",
   "metadata": {},
   "source": [
    "Again we will hard code the average returns and standard deviations for stocks and bonds. ( for a future project we could make these widgets as well! )\n"
   ]
  },
  {
   "cell_type": "code",
   "execution_count": null,
   "metadata": {},
   "outputs": [],
   "source": [
    "average_stock_return = 0.08\n",
    "average_bond_return = 0.03\n",
    "std_dev_stock = 0.15  # 15% annual standard deviation for stocks\n",
    "std_dev_bond = 0.05   # 5% annual standard deviation for bonds"
   ]
  },
  {
   "cell_type": "code",
   "execution_count": null,
   "metadata": {},
   "outputs": [],
   "source": [
    "# Retrieve widget values for calculations\n",
    "initial_investment = initial_investment_widget_alloc.value\n",
    "years = years_widget_alloc.value\n",
    "stock_allocation = stock_allocation_widget.value\n",
    "bond_allocation = 1 - stock_allocation\n",
    "num_simulations = simulations_widget.value\n",
    "\n",
    "# Initialize a list to store the final investment values of each simulation\n",
    "final_values = []"
   ]
  },
  {
   "cell_type": "markdown",
   "metadata": {},
   "source": [
    "Build a loop to simulate the growth of investments over time.  Running the simulaton multiple times is called a *Monte Carlo Simulation*.\n",
    "\n",
    "This will be similar to the previous example, but we will run the simulation multiple times to see the range of outcomes.  The inner loop is the same as the previous example, but in the outer loop we will run the simulation multiple times.\n",
    "\n",
    "Create a Table to store the results `final-values`\n",
    "\n",
    "Calculate the average and standard deviation of the results `final-values`\n",
    "\n",
    "This entire function is wrapped in a plot function that will plot the results of each run of the Monte Carlo simulation.  Think of it as 1000 different plots that map out the range of outcomes for the investments.  \n",
    "\n",
    "In the plot we have set the alpha to 0.1 so that we can see the overlap of the different paths.  Alpha is a parameter that sets the transparency of the plot.  So, the lower the alpha, the more transparent the plot.  \n",
    "\n",
    "\n",
    "We will also plot the average and standard deviation of the results.  This will give us a sense of the range of outcomes for our investments."
   ]
  },
  {
   "cell_type": "code",
   "execution_count": null,
   "metadata": {},
   "outputs": [],
   "source": [
    "\n",
    "plt.figure(figsize=(12, 8))\n",
    "#  Outer loop for running multiple simulations\n",
    "for _ in range(num_simulations):\n",
    "    investment_value = initial_investment\n",
    "    growth_path = []\n",
    "\n",
    "    # Inner loop for each simulation\n",
    "    for year in range(years):\n",
    "        # Generate random returns for stocks and bonds based on mean and standard deviation\n",
    "        stock_return = np.random.normal(average_stock_return, std_dev_stock)\n",
    "        bond_return = np.random.normal(average_bond_return, std_dev_bond)\n",
    "        \n",
    "        portfolio_return = (stock_allocation * stock_return) + (bond_allocation * bond_return)\n",
    "      \n",
    "        investment_value *= (1 + portfolio_return)\n",
    "        growth_path.append(investment_value)\n",
    "\n",
    "    # Store the final investment value for this simulation\n",
    "    final_values.append(investment_value)\n",
    "\n",
    "    # Plot this simulation's growth path\n",
    "    plt.plot(range(1, years + 1), growth_path, color='blue', alpha=0.05) # alpha is the transparency level\n",
    "\n",
    "# Calculate summary statistics of the final values across all simulations\n",
    "mean_final_value = np.mean(final_values)\n",
    "median_final_value = np.median(final_values)\n",
    "percentile_10 = np.percentile(final_values, 10)\n",
    "percentile_90 = np.percentile(final_values, 90)\n",
    "\n",
    "# Plot the summary statistics on the chart\n",
    "plt.title(\"Monte Carlo Simulation of Investment Growth with Asset Allocation\")\n",
    "plt.xlabel(\"Years\")\n",
    "plt.ylabel(\"Investment Value ($)\")\n",
    "plt.grid(True)\n",
    "plt.axhline(mean_final_value, color='green', linestyle='--', label=f\"Mean Final Value: ${mean_final_value:,.2f}\")\n",
    "plt.axhline(median_final_value, color='orange', linestyle='--', label=f\"Median Final Value: ${median_final_value:,.2f}\")\n",
    "plt.axhline(percentile_10, color='red', linestyle='--', label=f\"10th Percentile: ${percentile_10:,.2f}\")\n",
    "plt.axhline(percentile_90, color='purple', linestyle='--', label=f\"90th Percentile: ${percentile_90:,.2f}\")\n",
    "plt.legend()\n",
    "plt.show()\n"
   ]
  },
  {
   "cell_type": "markdown",
   "metadata": {},
   "source": [
    "## Appendix (Part 4)  - get the parameters for return and sd from the markets\n",
    "\n",
    "We can get the average returns and standard deviations for stocks and bonds from the markets.  This will allow us to use real data in our simulations.  \n",
    "\n",
    "We have hard coded the values for now, but we could use the market values to update our hard coded values above   This would allow us to use real data in our simulations.\n",
    "\n",
    "We will use the `yfinance` package to get the data from the markets.  This package allows us to get data from Yahoo Finance in a simple way, no API key, and in the format we want.  \n",
    "\n",
    "We will use the `yfinance` package to get the data for the **S&P 500** and the **10 year treasury** bond.  We will call the tickers for these assets `^GSPC` and `^TNX` respectively. \n",
    "\n",
    "We will use the data to calculate the average annual returns and standard deviations for stocks and bonds. Using annual returns and standard deviations is clearly one limitation of this model, but it is a simple way to get a sense of the range of outcomes for our investments.\n",
    "\n",
    "There are two important choices in the following code:\n",
    "- The time period for the data\n",
    "- The index for the data\n",
    "\n",
    "*Note for Data 88E: There is a little Pandas manipulaton in the code to calculate the average annual returns and standard deviations for stocks and bonds.  We will use the `ffill` and `resample` methods to fill in any missing values and to resample the data to get the annual returns and standard deviations.  We will use the `dropna` method to remove any missing values from the data.*\n",
    "\n"
   ]
  },
  {
   "cell_type": "code",
   "execution_count": null,
   "metadata": {},
   "outputs": [],
   "source": [
    "start_date = \"2000-01-01\"\n",
    "end_date = \"2023-01-01\""
   ]
  },
  {
   "cell_type": "code",
   "execution_count": null,
   "metadata": {},
   "outputs": [],
   "source": [
    "# Fetch historical data for S&P 500 (stocks) and TLT (bonds) using yfinance\n",
    "stock_data = yf.download('^GSPC', start=start_date, end=end_date)\n",
    "bond_data = yf.download('TLT', start=start_date, end=end_date)\n",
    "\n",
    "# Convert to annual adjusted close prices by resampling to year-end and forward-filling\n",
    "stock_data = stock_data['Adj Close'].resample('Y').ffill()\n",
    "bond_data = bond_data['Adj Close'].resample('Y').ffill()\n",
    "\n",
    "# Calculate annual returns as percentage change for stocks and bonds\n",
    "stock_returns = stock_data.pct_change().dropna()\n",
    "bond_returns = bond_data.pct_change().dropna()\n"
   ]
  },
  {
   "cell_type": "code",
   "execution_count": null,
   "metadata": {},
   "outputs": [],
   "source": [
    "# Create datascience Tables for annual returns\n",
    "stock_table = Table().with_columns(\"Year\", stock_data.index.year[1:], \"Stock Returns\", stock_returns.values)\n",
    "bond_table = Table().with_columns(\"Year\", bond_data.index.year[1:], \"Bond Returns\", bond_returns.values)"
   ]
  },
  {
   "cell_type": "code",
   "execution_count": null,
   "metadata": {},
   "outputs": [],
   "source": [
    "# Calculate mean and standard deviation using the Table methods\n",
    "average_stock_return_data = stock_table.column(\"Stock Returns\").mean()\n",
    "std_dev_stock_data = stock_table.column(\"Stock Returns\").std()\n",
    "average_bond_return_data = bond_table.column(\"Bond Returns\").mean()\n",
    "std_dev_bond_data = bond_table.column(\"Bond Returns\").std()\n"
   ]
  },
  {
   "cell_type": "code",
   "execution_count": null,
   "metadata": {},
   "outputs": [],
   "source": [
    "# Display the results\n",
    "print(f\"Average Stock Return (Market Data): {average_stock_return_data * 100:.2f}%\")\n",
    "print(f\"Stock Return Standard Deviation (Market Data): {std_dev_stock_data * 100:.2f}%\")\n",
    "print(f\"Average Bond Return (Market Data): {average_bond_return_data * 100:.2f}%\")\n",
    "print(f\"Bond Return Standard Deviation (Market Data): {std_dev_bond_data * 100:.2f}%\")"
   ]
  },
  {
   "cell_type": "markdown",
   "metadata": {},
   "source": [
    "## Updating the Monte Carlo Simulation with Market Data !?\n",
    "\n",
    "- How do these results compare to the parameters that we hard coded above?\n",
    "- What are the implications for financial planning?\n",
    "- How do the results change if we use real data from the markets?\n"
   ]
  },
  {
   "cell_type": "code",
   "execution_count": null,
   "metadata": {},
   "outputs": [],
   "source": [
    "print( \" Actual - Data\")\n",
    "print(f\"Difference in Average Stock Return: {(average_stock_return - average_stock_return_data) * 100:.2f}%\")\n",
    "print(f\"Difference in Stock Return Standard Deviation: {(std_dev_stock - std_dev_stock_data) * 100:.2f}%\")\n",
    "print(f\"Difference in Average Bond Return: {(average_bond_return - average_bond_return_data) * 100:.2f}%\")\n",
    "print(f\"Difference in Bond Return Standard Deviation: {(std_dev_bond - std_dev_bond_data) * 100:.2f}%\")\n"
   ]
  },
  {
   "cell_type": "markdown",
   "metadata": {},
   "source": [
    "Looks like our hard-coded values were a bit optimistic?  \n",
    "- We overestimanted returns\n",
    "- We underestimated volatility"
   ]
  },
  {
   "cell_type": "code",
   "execution_count": null,
   "metadata": {},
   "outputs": [],
   "source": []
  },
  {
   "cell_type": "code",
   "execution_count": null,
   "metadata": {},
   "outputs": [],
   "source": []
  },
  {
   "cell_type": "code",
   "execution_count": null,
   "metadata": {},
   "outputs": [],
   "source": []
  }
 ],
 "metadata": {
  "kernelspec": {
   "display_name": "base",
   "language": "python",
   "name": "python3"
  },
  "language_info": {
   "codemirror_mode": {
    "name": "ipython",
    "version": 3
   },
   "file_extension": ".py",
   "mimetype": "text/x-python",
   "name": "python",
   "nbconvert_exporter": "python",
   "pygments_lexer": "ipython3",
   "version": "3.8.15"
  }
 },
 "nbformat": 4,
 "nbformat_minor": 2
}
