{
 "cells": [
  {
   "cell_type": "markdown",
   "metadata": {
    "cell_id": "00000-dd1346f6-ea12-4ebc-bf94-ec3f4b938282",
    "deepnote_cell_type": "markdown"
   },
   "source": [
    "<table style=\"width: 100%;\">\n",
    "    <tr style=\"background-color: transparent;\"><td>\n",
    "        <img src=\"https://data-88e.github.io/assets/images/blue_text.png\" width=\"250px\" style=\"margin-left: 0;\" />\n",
    "    </td><td>\n",
    "        <p style=\"text-align: right; font-size: 10pt;\"><strong>Economic Models</strong>, Fall 2024\n",
    "        <br>\n",
    "            Dr. Eric Van Dusen</p></td></tr>\n",
    "</table>"
   ]
  },
  {
   "cell_type": "markdown",
   "metadata": {
    "cell_id": "00001-ed8f3b5f-71ba-49da-97ac-f4a7ab723666",
    "deepnote_cell_type": "markdown"
   },
   "source": [
    "# Lec9: Water Guard Randomized Controlled Trial\n",
    "\n",
    "This notebook is an adaptation from a set of notebooks developed for a full semester Data Science Connector Course taught in Fall 2017, entitled \"Behind the Curtain in Economic Development\".  This dataset come from a randomized controlled trial household survey carried out in Eastern Kenya in 2007-2008. \n",
    "\n",
    "The purpose of the study was to understand how to promote the use of WaterGuard, a dilute sodium hypochlorite solution that was promoted for Point-of-use household water disinfection.  There were seven arms in the study, which will be more fully described in the following chart:\n"
   ]
  },
  {
   "cell_type": "markdown",
   "metadata": {
    "cell_id": "00002-edd28500-48b3-43cf-895e-6853f5cc714a",
    "deepnote_cell_type": "markdown"
   },
   "source": [
    "<img src=\"Slide1.png\"  />"
   ]
  },
  {
   "cell_type": "markdown",
   "metadata": {
    "cell_id": "00003-cfa6a603-7b8f-41a5-ab88-a34ff4273f8e",
    "deepnote_cell_type": "markdown"
   },
   "source": [
    "Within this table you can see the seven treatments arms -  control plus three treatments -  in the bolded boxes in the middle with the number of springs and households. The study was carried out as a part of a study of households who gather drinking water from springs in a rural area.  The three boxes at the bottom describe the three rounds of data collection - a baseline before the treatment, and a short term and long term follow-up.  "
   ]
  },
  {
   "cell_type": "markdown",
   "metadata": {
    "cell_id": "00004-ff8fa096-2ba0-45dc-8796-d763654d073a",
    "deepnote_cell_type": "markdown"
   },
   "source": [
    "<!-- **Notebook Outline**\n",
    "\n",
    "1. [Mapping](#Mapping)\n",
    "2. [Balance Check](#Balance)\n",
    "3. [Baseline and a Randomly Selected Compound](#Baseline)\n",
    "4. [Chlorine Usage outcome variables](#Chlorine)\n",
    "5. [Graph of outcomes by Treatment Arm](#Graph)  -->"
   ]
  },
  {
   "cell_type": "code",
   "execution_count": 1,
   "metadata": {
    "cell_id": "00005-aa2b4a82-c422-499b-8d72-afb4709953bf",
    "deepnote_cell_type": "code",
    "deepnote_to_be_reexecuted": false,
    "execution_millis": 12295,
    "execution_start": 1615185767066,
    "source_hash": "dc2a06d3"
   },
   "outputs": [],
   "source": [
    "from datascience import *\n",
    "import numpy as np\n",
    "import matplotlib.pyplot as plt\n",
    "%matplotlib inline\n",
    "import pandas as pd\n",
    "from pandas import read_stata\n",
    "from ipyleaflet import Map, basemaps, Marker, AwesomeIcon\n",
    "\n"
   ]
  },
  {
   "cell_type": "markdown",
   "metadata": {
    "cell_id": "00006-0b4f065e-e27f-436f-9383-d6f224b9792e",
    "deepnote_cell_type": "markdown"
   },
   "source": [
    "## Mapping\n",
    "\n",
    "<div id=\"Mapping\"></div>\n"
   ]
  },
  {
   "cell_type": "markdown",
   "metadata": {
    "cell_id": "00007-47d42da2-058c-41e8-a1fc-b195413bc34d",
    "deepnote_cell_type": "markdown",
    "tags": []
   },
   "source": [
    "This first section works with a package in Jupyter called ipyleaflet.\n",
    "\n",
    "`ipyleaflet`;\n",
    "the documentation is [here](https://ipyleaflet.readthedocs.io/en/latest/)\n",
    "and it is worth a short read through if you are interested.\n",
    "\n",
    "\n",
    "We want to use two different base maps - one is a satellite layer and oen is the Open Street Map layer.  "
   ]
  },
  {
   "cell_type": "markdown",
   "metadata": {
    "cell_id": "00009-9490474a-5ae4-466e-87fe-330f0aa39cc4",
    "deepnote_cell_type": "markdown"
   },
   "source": [
    "We will start by reading in a dataset of the coordinates of the springs that are used in the WaterGuard Promotion (WGP) study.  These springs were randomized into seven different treatment arms.  The springs are identified by a unique numerical id tag, and the common name in the local language.  \n"
   ]
  },
  {
   "cell_type": "code",
   "execution_count": 2,
   "metadata": {
    "cell_id": "00010-503ba2ce-1d3d-4829-8a4e-63ff2423375a",
    "deepnote_cell_type": "code",
    "deepnote_to_be_reexecuted": false,
    "execution_millis": 32,
    "execution_start": 1614874593002,
    "source_hash": "21959bb4"
   },
   "outputs": [
    {
     "data": {
      "text/html": [
       "<table border=\"1\" class=\"dataframe\">\n",
       "    <thead>\n",
       "        <tr>\n",
       "            <th>a2_spring_id</th> <th>a3_spring_name</th> <th>treatment_arm</th> <th>gpsn1</th> <th>gpse1</th> <th>gps1all</th>\n",
       "        </tr>\n",
       "    </thead>\n",
       "    <tbody>\n",
       "        <tr>\n",
       "            <td>1010        </td> <td>JIKAZE SOWETO </td> <td>6            </td> <td>0.39985 </td> <td>34.49  </td> <td>.39985,34.49003  </td>\n",
       "        </tr>\n",
       "        <tr>\n",
       "            <td>1013        </td> <td>ROHO SAFI     </td> <td>4            </td> <td>0.398933</td> <td>34.4898</td> <td>.3989333,34.48985</td>\n",
       "        </tr>\n",
       "        <tr>\n",
       "            <td>1014        </td> <td>OTWOMA        </td> <td>6            </td> <td>0.339083</td> <td>34.4355</td> <td>.3390833,34.4355 </td>\n",
       "        </tr>\n",
       "        <tr>\n",
       "            <td>1015        </td> <td>MUKOYA        </td> <td>5            </td> <td>0.358317</td> <td>34.4412</td> <td>.3583167,34.44122</td>\n",
       "        </tr>\n",
       "        <tr>\n",
       "            <td>1021        </td> <td>OKELLO        </td> <td>6            </td> <td>0.355983</td> <td>34.4314</td> <td>.3559833,34.43142</td>\n",
       "        </tr>\n",
       "        <tr>\n",
       "            <td>5001        </td> <td>NAKHALIRO A   </td> <td>6            </td> <td>0.439167</td> <td>34.3992</td> <td>.4391667,34.39919</td>\n",
       "        </tr>\n",
       "        <tr>\n",
       "            <td>5002        </td> <td>NAKHALIRO 'B' </td> <td>4            </td> <td>0.439033</td> <td>34.4019</td> <td>.4390333,34.40192</td>\n",
       "        </tr>\n",
       "        <tr>\n",
       "            <td>5004        </td> <td>OSIMBO        </td> <td>1            </td> <td>0.411583</td> <td>34.3644</td> <td>.4115833,34.36442</td>\n",
       "        </tr>\n",
       "        <tr>\n",
       "            <td>5007        </td> <td>TANDE         </td> <td>7            </td> <td>0.433667</td> <td>34.4325</td> <td>.4336667,34.43255</td>\n",
       "        </tr>\n",
       "        <tr>\n",
       "            <td>5008        </td> <td>MUKABANA      </td> <td>6            </td> <td>0.408483</td> <td>34.4591</td> <td>.4084833,34.45912</td>\n",
       "        </tr>\n",
       "    </tbody>\n",
       "</table>\n",
       "<p>... (78 rows omitted)</p>"
      ],
      "text/plain": [
       "a2_spring_id | a3_spring_name | treatment_arm | gpsn1    | gpse1   | gps1all\n",
       "1010         | JIKAZE SOWETO  | 6             | 0.39985  | 34.49   | .39985,34.49003\n",
       "1013         | ROHO SAFI      | 4             | 0.398933 | 34.4898 | .3989333,34.48985\n",
       "1014         | OTWOMA         | 6             | 0.339083 | 34.4355 | .3390833,34.4355\n",
       "1015         | MUKOYA         | 5             | 0.358317 | 34.4412 | .3583167,34.44122\n",
       "1021         | OKELLO         | 6             | 0.355983 | 34.4314 | .3559833,34.43142\n",
       "5001         | NAKHALIRO A    | 6             | 0.439167 | 34.3992 | .4391667,34.39919\n",
       "5002         | NAKHALIRO 'B'  | 4             | 0.439033 | 34.4019 | .4390333,34.40192\n",
       "5004         | OSIMBO         | 1             | 0.411583 | 34.3644 | .4115833,34.36442\n",
       "5007         | TANDE          | 7             | 0.433667 | 34.4325 | .4336667,34.43255\n",
       "5008         | MUKABANA       | 6             | 0.408483 | 34.4591 | .4084833,34.45912\n",
       "... (78 rows omitted)"
      ]
     },
     "execution_count": 2,
     "metadata": {},
     "output_type": "execute_result"
    }
   ],
   "source": [
    "springsGPS = Table.read_table('WGPgps_forData8.csv')\n",
    "springsGPS"
   ]
  },
  {
   "cell_type": "code",
   "execution_count": 3,
   "metadata": {
    "cell_id": "00011-68583eca-f314-4a91-91bd-978589db6aa0",
    "deepnote_cell_type": "code",
    "deepnote_to_be_reexecuted": false,
    "execution_millis": 29,
    "execution_start": 1614874593014,
    "source_hash": "94d5907b"
   },
   "outputs": [
    {
     "data": {
      "text/html": [
       "<table border=\"1\" class=\"dataframe\">\n",
       "    <thead>\n",
       "        <tr>\n",
       "            <th>gpsn1</th> <th>gpse1</th>\n",
       "        </tr>\n",
       "    </thead>\n",
       "    <tbody>\n",
       "        <tr>\n",
       "            <td>0.39985 </td> <td>34.49  </td>\n",
       "        </tr>\n",
       "        <tr>\n",
       "            <td>0.398933</td> <td>34.4898</td>\n",
       "        </tr>\n",
       "        <tr>\n",
       "            <td>0.339083</td> <td>34.4355</td>\n",
       "        </tr>\n",
       "        <tr>\n",
       "            <td>0.358317</td> <td>34.4412</td>\n",
       "        </tr>\n",
       "        <tr>\n",
       "            <td>0.355983</td> <td>34.4314</td>\n",
       "        </tr>\n",
       "        <tr>\n",
       "            <td>0.439167</td> <td>34.3992</td>\n",
       "        </tr>\n",
       "        <tr>\n",
       "            <td>0.439033</td> <td>34.4019</td>\n",
       "        </tr>\n",
       "        <tr>\n",
       "            <td>0.411583</td> <td>34.3644</td>\n",
       "        </tr>\n",
       "        <tr>\n",
       "            <td>0.433667</td> <td>34.4325</td>\n",
       "        </tr>\n",
       "        <tr>\n",
       "            <td>0.408483</td> <td>34.4591</td>\n",
       "        </tr>\n",
       "    </tbody>\n",
       "</table>\n",
       "<p>... (78 rows omitted)</p>"
      ],
      "text/plain": [
       "gpsn1    | gpse1\n",
       "0.39985  | 34.49\n",
       "0.398933 | 34.4898\n",
       "0.339083 | 34.4355\n",
       "0.358317 | 34.4412\n",
       "0.355983 | 34.4314\n",
       "0.439167 | 34.3992\n",
       "0.439033 | 34.4019\n",
       "0.411583 | 34.3644\n",
       "0.433667 | 34.4325\n",
       "0.408483 | 34.4591\n",
       "... (78 rows omitted)"
      ]
     },
     "execution_count": 3,
     "metadata": {},
     "output_type": "execute_result"
    }
   ],
   "source": [
    "# make a table wth just the North and East Gps columns \n",
    "locations = springsGPS.select(\"gpsn1\", \"gpse1\")\n",
    "locations"
   ]
  },
  {
   "cell_type": "markdown",
   "metadata": {},
   "source": [
    "Where in the world are we?\n",
    "\n",
    "First of all lets look at the mean for the Lat and Long and we can center our map there\n"
   ]
  },
  {
   "cell_type": "code",
   "execution_count": 4,
   "metadata": {
    "tags": []
   },
   "outputs": [
    {
     "name": "stdout",
     "output_type": "stream",
     "text": [
      "Mean of 'gpse1': 34.4179509091\n",
      "Mean of 'gpsn1': 0.402962309091\n"
     ]
    }
   ],
   "source": [
    "\n",
    "mean_longitude = springsGPS.column('gpse1').mean()\n",
    "mean_latitude = springsGPS.column('gpsn1').mean()\n",
    "\n",
    "print(\"Mean of 'gpse1':\", mean_longitude)\n",
    "print(\"Mean of 'gpsn1':\", mean_latitude)\n"
   ]
  },
  {
   "cell_type": "markdown",
   "metadata": {
    "tags": []
   },
   "source": [
    "The code cell below should display a map. However, it may not run the first time you click it - if this happens, try running all the cells above this one and then refreshing your browser. After a few refreshes, the maps should load.  \n",
    "\n",
    "\n"
   ]
  },
  {
   "cell_type": "code",
   "execution_count": 5,
   "metadata": {
    "cell_id": "00012-7f4127e4-c28a-46ef-ac90-580df86bf1f4",
    "deepnote_cell_type": "code",
    "deepnote_to_be_reexecuted": false,
    "execution_millis": 293,
    "execution_start": 1614811316445,
    "source_hash": "ab2d5ba6"
   },
   "outputs": [
    {
     "data": {
      "application/vnd.jupyter.widget-view+json": {
       "model_id": "e22d34af91d149e7a02aad47ad7c51b2",
       "version_major": 2,
       "version_minor": 0
      },
      "text/plain": [
       "Map(center=[0.4, 34.4], controls=(ZoomControl(options=['position', 'zoom_in_text', 'zoom_in_title', 'zoom_out_…"
      ]
     },
     "execution_count": 5,
     "metadata": {},
     "output_type": "execute_result"
    }
   ],
   "source": [
    "\n",
    "center = [0.4, 34.4]\n",
    "zoom = 12\n",
    "basemap=basemaps.Esri.WorldImagery\n",
    "layout={'width': '800px', 'height': '600px'}\n",
    "\n",
    "Map(basemap=basemap, center=center, zoom=zoom, layout=layout)"
   ]
  },
  {
   "cell_type": "markdown",
   "metadata": {},
   "source": [
    "Lets make a map of our sample sites ( springs) "
   ]
  },
  {
   "cell_type": "code",
   "execution_count": 7,
   "metadata": {
    "cell_id": "00013-b1d914ab-7a3d-4670-8576-060cc5f182fe",
    "deepnote_cell_type": "code",
    "deepnote_to_be_reexecuted": false,
    "execution_millis": 259,
    "execution_start": 1614811316746,
    "source_hash": "7669eb43"
   },
   "outputs": [
    {
     "data": {
      "application/vnd.jupyter.widget-view+json": {
       "model_id": "beeda4e256ef4947a74b1dfaa6b3c57a",
       "version_major": 2,
       "version_minor": 0
      },
      "text/plain": [
       "Map(center=[0.4, 34.4], controls=(ZoomControl(options=['position', 'zoom_in_text', 'zoom_in_title', 'zoom_out_…"
      ]
     },
     "execution_count": 7,
     "metadata": {},
     "output_type": "execute_result"
    }
   ],
   "source": [
    "m = Map(basemap=basemap, center=center, zoom=zoom, layout=layout)\n",
    "\n",
    "# Iterate through the rows in the dataset\n",
    "for row in springsGPS.rows:\n",
    "    latitude = row.item('gpsn1')\n",
    "    longitude = row.item('gpse1')\n",
    "    marker = Marker(location=(latitude, longitude))\n",
    "    m.add_layer(marker)\n",
    "\n",
    "m\n"
   ]
  },
  {
   "cell_type": "markdown",
   "metadata": {
    "cell_id": "00014-3006486c-e714-4eb8-a3ec-9dd7adebc9c1",
    "deepnote_cell_type": "markdown"
   },
   "source": [
    "Now the most interesting bit of data is still not being used, the Treatment Arm. Let's assign different colors to the different treatment arms so that when we map it we can see if the arms appear to be randomly distributed.\n",
    "\n",
    "The following is function assigns the 7 different treatment arms to a set of colors. [Here](https://www.w3.org/TR/css3-color/#html4) is the colors reference if you are interested!  \n"
   ]
  },
  {
   "cell_type": "code",
   "execution_count": 8,
   "metadata": {
    "cell_id": "00015-ca47db13-8798-45e2-ad5c-c2143db611db",
    "deepnote_cell_type": "code",
    "deepnote_to_be_reexecuted": false,
    "execution_millis": 1,
    "execution_start": 1614811317116,
    "source_hash": "709df761"
   },
   "outputs": [],
   "source": [
    "def color(arm):\n",
    "    if arm == 1:\n",
    "        return 'black'\n",
    "    elif arm == 2:\n",
    "        return 'red'\n",
    "    elif arm == 3:\n",
    "        return 'purple'\n",
    "    elif arm == 4:\n",
    "        return 'green'\n",
    "    elif arm == 5:\n",
    "        return 'blue'\n",
    "    elif arm == 6:\n",
    "        return 'pink'\n",
    "    elif arm == 7:\n",
    "        return 'orange'"
   ]
  },
  {
   "cell_type": "code",
   "execution_count": 9,
   "metadata": {
    "cell_id": "00016-aa8fbf10-1be3-4295-bef3-1bec082e4ab7",
    "deepnote_cell_type": "code",
    "deepnote_to_be_reexecuted": false,
    "execution_millis": 12,
    "execution_start": 1614811317132,
    "source_hash": "cb529e91"
   },
   "outputs": [
    {
     "data": {
      "text/html": [
       "<table border=\"1\" class=\"dataframe\">\n",
       "    <thead>\n",
       "        <tr>\n",
       "            <th>a2_spring_id</th> <th>a3_spring_name</th> <th>treatment_arm</th> <th>gpsn1</th> <th>gpse1</th> <th>gps1all</th> <th>color</th>\n",
       "        </tr>\n",
       "    </thead>\n",
       "    <tbody>\n",
       "        <tr>\n",
       "            <td>1010        </td> <td>JIKAZE SOWETO </td> <td>6            </td> <td>0.39985 </td> <td>34.49  </td> <td>.39985,34.49003  </td> <td>pink  </td>\n",
       "        </tr>\n",
       "        <tr>\n",
       "            <td>1013        </td> <td>ROHO SAFI     </td> <td>4            </td> <td>0.398933</td> <td>34.4898</td> <td>.3989333,34.48985</td> <td>green </td>\n",
       "        </tr>\n",
       "        <tr>\n",
       "            <td>1014        </td> <td>OTWOMA        </td> <td>6            </td> <td>0.339083</td> <td>34.4355</td> <td>.3390833,34.4355 </td> <td>pink  </td>\n",
       "        </tr>\n",
       "        <tr>\n",
       "            <td>1015        </td> <td>MUKOYA        </td> <td>5            </td> <td>0.358317</td> <td>34.4412</td> <td>.3583167,34.44122</td> <td>blue  </td>\n",
       "        </tr>\n",
       "        <tr>\n",
       "            <td>1021        </td> <td>OKELLO        </td> <td>6            </td> <td>0.355983</td> <td>34.4314</td> <td>.3559833,34.43142</td> <td>pink  </td>\n",
       "        </tr>\n",
       "        <tr>\n",
       "            <td>5001        </td> <td>NAKHALIRO A   </td> <td>6            </td> <td>0.439167</td> <td>34.3992</td> <td>.4391667,34.39919</td> <td>pink  </td>\n",
       "        </tr>\n",
       "        <tr>\n",
       "            <td>5002        </td> <td>NAKHALIRO 'B' </td> <td>4            </td> <td>0.439033</td> <td>34.4019</td> <td>.4390333,34.40192</td> <td>green </td>\n",
       "        </tr>\n",
       "        <tr>\n",
       "            <td>5004        </td> <td>OSIMBO        </td> <td>1            </td> <td>0.411583</td> <td>34.3644</td> <td>.4115833,34.36442</td> <td>black </td>\n",
       "        </tr>\n",
       "        <tr>\n",
       "            <td>5007        </td> <td>TANDE         </td> <td>7            </td> <td>0.433667</td> <td>34.4325</td> <td>.4336667,34.43255</td> <td>orange</td>\n",
       "        </tr>\n",
       "        <tr>\n",
       "            <td>5008        </td> <td>MUKABANA      </td> <td>6            </td> <td>0.408483</td> <td>34.4591</td> <td>.4084833,34.45912</td> <td>pink  </td>\n",
       "        </tr>\n",
       "    </tbody>\n",
       "</table>\n",
       "<p>... (78 rows omitted)</p>"
      ],
      "text/plain": [
       "a2_spring_id | a3_spring_name | treatment_arm | gpsn1    | gpse1   | gps1all           | color\n",
       "1010         | JIKAZE SOWETO  | 6             | 0.39985  | 34.49   | .39985,34.49003   | pink\n",
       "1013         | ROHO SAFI      | 4             | 0.398933 | 34.4898 | .3989333,34.48985 | green\n",
       "1014         | OTWOMA         | 6             | 0.339083 | 34.4355 | .3390833,34.4355  | pink\n",
       "1015         | MUKOYA         | 5             | 0.358317 | 34.4412 | .3583167,34.44122 | blue\n",
       "1021         | OKELLO         | 6             | 0.355983 | 34.4314 | .3559833,34.43142 | pink\n",
       "5001         | NAKHALIRO A    | 6             | 0.439167 | 34.3992 | .4391667,34.39919 | pink\n",
       "5002         | NAKHALIRO 'B'  | 4             | 0.439033 | 34.4019 | .4390333,34.40192 | green\n",
       "5004         | OSIMBO         | 1             | 0.411583 | 34.3644 | .4115833,34.36442 | black\n",
       "5007         | TANDE          | 7             | 0.433667 | 34.4325 | .4336667,34.43255 | orange\n",
       "5008         | MUKABANA       | 6             | 0.408483 | 34.4591 | .4084833,34.45912 | pink\n",
       "... (78 rows omitted)"
      ]
     },
     "execution_count": 9,
     "metadata": {},
     "output_type": "execute_result"
    }
   ],
   "source": [
    "# Using the .apply method, you can apply any function to a data frame\n",
    "colors = springsGPS.apply(color, \"treatment_arm\")\n",
    "springsGPS = springsGPS.with_column(\"color\", colors)\n",
    "springsGPS"
   ]
  },
  {
   "cell_type": "code",
   "execution_count": 10,
   "metadata": {
    "cell_id": "00017-d52e78da-9cd5-4dee-a0ad-c2669e4ea54d",
    "deepnote_cell_type": "code",
    "deepnote_to_be_reexecuted": false,
    "execution_millis": 127,
    "execution_start": 1614841151104,
    "source_hash": "fdf40279"
   },
   "outputs": [
    {
     "data": {
      "application/vnd.jupyter.widget-view+json": {
       "model_id": "2720d3538fa245318ec78bc7daf5613c",
       "version_major": 2,
       "version_minor": 0
      },
      "text/plain": [
       "Map(center=[0.4, 34.4], controls=(ZoomControl(options=['position', 'zoom_in_text', 'zoom_in_title', 'zoom_out_…"
      ]
     },
     "execution_count": 10,
     "metadata": {},
     "output_type": "execute_result"
    }
   ],
   "source": [
    "\n",
    "m = Map( center=center, zoom=zoom, layout=layout)\n",
    "\n",
    "for row in springsGPS.rows:\n",
    "    latitude = row.item('gpsn1')\n",
    "    longitude = row.item('gpse1')\n",
    "    color = row.item('color')\n",
    "    \n",
    "    marker = Marker(\n",
    "        location=(latitude, longitude),\n",
    "        draggable=False,  # Set to True if you want to make the markers draggable\n",
    "        title=color,      # Set the marker title to the color for tooltip\n",
    "        alt=color         # Set the alt text to the color\n",
    "    )\n",
    "    \n",
    "    # Apply the specified color to the marker\n",
    "    marker.icon = AwesomeIcon(name='circle', marker_color=color)\n",
    "    \n",
    "    m.add_layer(marker)\n",
    "\n",
    "m\n"
   ]
  },
  {
   "cell_type": "code",
   "execution_count": 11,
   "metadata": {},
   "outputs": [
    {
     "data": {
      "application/vnd.jupyter.widget-view+json": {
       "model_id": "e1d92539394949998fe173b10871da2f",
       "version_major": 2,
       "version_minor": 0
      },
      "text/plain": [
       "Map(center=[0.4, 34.4], controls=(ZoomControl(options=['position', 'zoom_in_text', 'zoom_in_title', 'zoom_out_…"
      ]
     },
     "execution_count": 11,
     "metadata": {},
     "output_type": "execute_result"
    }
   ],
   "source": [
    "\n",
    "m=Map(basemap=basemap, center=center, zoom=zoom, layout=layout)\n",
    "\n",
    "for row in springsGPS.rows:\n",
    "    latitude = row.item('gpsn1')\n",
    "    longitude = row.item('gpse1')\n",
    "    color = row.item('color')\n",
    "    \n",
    "    marker = Marker(\n",
    "        location=(latitude, longitude),\n",
    "        draggable=False,  # Set to True if you want to make the markers draggable\n",
    "        title=color,      # Set the marker title to the color for tooltip\n",
    "        alt=color         # Set the alt text to the color\n",
    "    )\n",
    "    \n",
    "    marker.icon = AwesomeIcon(name='circle', marker_color=color)\n",
    "    \n",
    "    m.add_layer(marker)\n",
    "\n",
    "m"
   ]
  },
  {
   "cell_type": "markdown",
   "metadata": {
    "cell_id": "00018-bff4046a-b6d1-4638-ac81-2564bbe9cae6",
    "deepnote_cell_type": "markdown"
   },
   "source": [
    "Do the colors seem randomly distributed?\n",
    "\n",
    "In fact, the randomization was performed on just a list of the springs using a random number generator. \n",
    "It did not take spatial distribution into effect.  \n"
   ]
  },
  {
   "cell_type": "code",
   "execution_count": null,
   "metadata": {},
   "outputs": [],
   "source": []
  },
  {
   "cell_type": "code",
   "execution_count": null,
   "metadata": {},
   "outputs": [],
   "source": []
  }
 ],
 "metadata": {
  "deepnote": {},
  "deepnote_execution_queue": [],
  "deepnote_notebook_id": "81166544-3689-4689-97e3-3623acd93634",
  "kernelspec": {
   "display_name": "base",
   "language": "python",
   "name": "python3"
  },
  "language_info": {
   "codemirror_mode": {
    "name": "ipython",
    "version": 3
   },
   "file_extension": ".py",
   "mimetype": "text/x-python",
   "name": "python",
   "nbconvert_exporter": "python",
   "pygments_lexer": "ipython3",
   "version": "3.8.15"
  }
 },
 "nbformat": 4,
 "nbformat_minor": 4
}
