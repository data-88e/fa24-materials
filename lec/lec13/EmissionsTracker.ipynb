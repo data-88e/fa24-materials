{
 "cells": [
  {
   "cell_type": "markdown",
   "metadata": {},
   "source": [
    "## Climate Action Tracker - Country Assessments \n",
    "\n",
    "\n",
    "The Climate Action Tracker develops national greenhouse gas emission scenarios to assess countries' mitigation efforts. \n",
    "These scenarios include both pledges, such as NDCs and net zero commitments, and emission trajectories under currently adopted policies and actions.\n",
    "For more details please visit the methodology section on our website: https://climateactiontracker.org/methodology/estimating-national-emissions/\n",
    "\n",
    "Here, we present the latest version of the scenarios developed for each country. Please note that the assessment date varies per country and that some updates from the past month may not yet be reflected in this table.\n",
    "\n",
    "Values in the table below are in MtCO2e/year and AR4 GWPs.\n",
    "\n",
    "Please reference as: 'Climate Action Tracker, Country Assessments | November 2024 - http://climateactiontracker.org'\n",
    "\n",
    "Copyright © 2024 Climate Action Tracker by NewClimate Institute and Climate Analytics. All rights reserved. The content provided by this website is protected by copyright. \n",
    "You are authorised to view, download, print and distribute the content from this website subject to the following condition: Any reproduction, in full or in part, must credit Climate Analytics and NewClimate Institute and must include a copyright notice."
   ]
  },
  {
   "cell_type": "code",
   "execution_count": null,
   "metadata": {},
   "outputs": [],
   "source": [
    "import pandas as pd\n",
    "import openpyxl\n",
    "import plotly.express as px"
   ]
  },
  {
   "cell_type": "code",
   "execution_count": null,
   "metadata": {},
   "outputs": [],
   "source": [
    "url='https://climateactiontracker.org/documents/1289/CAT_14112024_CountryAssessmentData_DataExplorer.xlsx'"
   ]
  },
  {
   "cell_type": "code",
   "execution_count": null,
   "metadata": {},
   "outputs": [],
   "source": [
    "file_path = 'CAT_14112024_CountryAssessmentData_DataExplorer.xlsx'\n",
    "sheet_name = 'Assessment'"
   ]
  },
  {
   "cell_type": "code",
   "execution_count": null,
   "metadata": {},
   "outputs": [],
   "source": [
    "# Reload the data with the first row as headers using openpyxl engine\n",
    "emissions = pd.read_excel(url, sheet_name=sheet_name, skiprows=18, engine='openpyxl')\n",
    "emissions"
   ]
  },
  {
   "cell_type": "markdown",
   "metadata": {},
   "source": [
    "LULUCF stands for Land Use, Land-Use Change, and Forestry. In emissions tracking, it refers to the greenhouse gas (GHG) emissions and removals resulting from human activities in forests, croplands, grasslands, wetlands, and other land-use types.\n",
    "\n",
    "LULUCF plays a dual role in emissions accounting:\n",
    "\n",
    "Source of Emissions: When forests are cleared, burned, or degraded, or when land is converted to agricultural or other uses, it releases stored carbon into the atmosphere.\n",
    "\n",
    "Carbon Sink: LULUCF activities can also act as a carbon sink by removing CO₂ from the atmosphere, for example, through reforestation, afforestation, or improved land management practices.\n",
    "\n",
    "In climate agreements and national emissions inventories, LULUCF is often included separately due to its unique nature of both emitting and absorbing"
   ]
  },
  {
   "cell_type": "code",
   "execution_count": null,
   "metadata": {},
   "outputs": [],
   "source": [
    "emissions_cleaned = emissions.dropna(subset=[\"Country\"])\n",
    "emissions_cleaned\n",
    "# i want to replace the value in the column \"Sector\" with \"Emissions-exLU\" where the value is \"Economy-wide, excluding LULUCF\"\n",
    "emissions_cleaned['Sector'] = emissions_cleaned['Sector'].replace(\"Economy-wide, excluding LULUCF\", \"Emissions-exLU\")\n",
    "#emissions_cleaned.loc[emissions_cleaned['Sector'] == \"Economy-wide, excluding LULUCF\", 'Sector'] = \"Emissions-exLU\"\n",
    "\n",
    "emissions_cleaned\n",
    "\n"
   ]
  },
  {
   "cell_type": "code",
   "execution_count": null,
   "metadata": {},
   "outputs": [],
   "source": [
    "# lets look at China\n",
    "china = emissions_cleaned[emissions_cleaned['Country'] == 'CHN']\n",
    "china\n"
   ]
  },
  {
   "cell_type": "markdown",
   "metadata": {},
   "source": [
    "### Lets looks at China Historical Emissions\n",
    "\n",
    "Scenario = \"Historical\" and sector = \"Emissions-exLU\"\n"
   ]
  },
  {
   "cell_type": "code",
   "execution_count": null,
   "metadata": {},
   "outputs": [],
   "source": [
    "china_historical = china[(china['Scenario'] == 'Historical') & (china['Sector'] == 'Emissions-exLU')]\n",
    "china_historical"
   ]
  },
  {
   "cell_type": "markdown",
   "metadata": {},
   "source": [
    "###  The data are in the wrong shape for analysis.\n",
    "- The years are spread out as columns\n",
    "- Let's  `melt` the DataFrame so that years become rows under a 'Year' column\n"
   ]
  },
  {
   "cell_type": "code",
   "execution_count": null,
   "metadata": {},
   "outputs": [],
   "source": [
    "china_historical_melted = pd.melt(\n",
    "    china_historical, \n",
    "    id_vars=['Version', 'Country', 'Scenario', 'Sector', 'Indicator', 'Unit'],  \n",
    "    var_name='Year',\n",
    "    value_name='Emissions'  \n",
    ")\n",
    "\n",
    "china_historical_melted['Year'] = pd.to_numeric(china_historical_melted['Year'], errors='coerce')\n",
    "\n",
    "china_historical_melted.head()\n"
   ]
  },
  {
   "cell_type": "code",
   "execution_count": null,
   "metadata": {},
   "outputs": [],
   "source": [
    "fig = px.line(china_historical_melted, x='Year', y='Emissions', title='China Emissions-exLU Historical')\n",
    "fig.show()"
   ]
  },
  {
   "cell_type": "markdown",
   "metadata": {},
   "source": [
    "##  Now let's get the Forecast data \n",
    "\n",
    "In this dataset these are called \"current policy scenario,max\" and \"current policy scenario,min\".  \n",
    "- We will use the same process 'melt' as above to get the data in the right shape for analysis.\n",
    "\n"
   ]
  },
  {
   "cell_type": "code",
   "execution_count": null,
   "metadata": {},
   "outputs": [],
   "source": [
    "china_current_policy = china[china['Scenario'].str.contains('Current Policy')]\n",
    "\n",
    "china_current_policy_melted = pd.melt(\n",
    "    china_current_policy_both, \n",
    "    id_vars=['Version', 'Country', 'Scenario', 'Sector', 'Indicator', 'Unit'], \n",
    "    var_name='Year',  \n",
    "    value_name='Emissions' \n",
    ")\n",
    "\n",
    "china_current_policy_melted"
   ]
  },
  {
   "cell_type": "markdown",
   "metadata": {},
   "source": [
    "Now we need to pivot the data so that we have the following columns:\n",
    "- Year\n",
    "- Max Emissions\n",
    "- Min Emissions\n"
   ]
  },
  {
   "cell_type": "code",
   "execution_count": null,
   "metadata": {},
   "outputs": [],
   "source": [
    "data_melted = china_current_policy_melted\n",
    "china_current_policy_melted['Year'] = pd.to_numeric(china_current_policy_melted['Year'], errors='coerce')\n",
    "\n",
    "china_forecast_pivot = china_current_policy_melted.pivot_table(\n",
    "    index=['Version', 'Country', 'Sector', 'Indicator', 'Unit', 'Year'],  \n",
    "    columns='Scenario',  \n",
    "    values='Emissions'  \n",
    ").reset_index()  \n",
    "\n",
    "# Rename the columns for clarity\n",
    "china_forecast_pivot.columns.name = None  \n",
    "china_forecast_pivot.rename(columns={'Current Policy, Max': 'Max_Forecast', 'Current Policy, Min': 'Min_Forecast'}, inplace=True)\n",
    "\n",
    "china_forecast_pivot\n"
   ]
  },
  {
   "cell_type": "markdown",
   "metadata": {},
   "source": [
    "Let's plot the data to see the trends in the emissions"
   ]
  },
  {
   "cell_type": "code",
   "execution_count": null,
   "metadata": {},
   "outputs": [],
   "source": [
    "fig = px.line(china_forecast_pivot, x='Year', y='Max_Forecast', title='China Emissions-exLU Current Policy')\n",
    "fig.add_scatter(x=china_forecast_pivot['Year'], y=china_forecast_pivot['Min_Forecast'], mode='lines', name='Forecast Min')\n",
    "fig.show()"
   ]
  },
  {
   "cell_type": "markdown",
   "metadata": {},
   "source": [
    "Let's add historical data to the plot"
   ]
  },
  {
   "cell_type": "code",
   "execution_count": null,
   "metadata": {},
   "outputs": [],
   "source": [
    "fig = px.line(china_historical_melted, x='Year', y='Emissions', title='China Emissions-exLU Historical')\n",
    "fig.add_scatter(x=china_forecast_pivot['Year'], y=china_forecast_pivot['Max_Forecast'], mode='lines', name='Max Emissions')\n",
    "fig.add_scatter(x=china_forecast_pivot['Year'], y=china_forecast_pivot['Min_Forecast'], mode='lines', name='Min Emissions')\n",
    "fig.show()\n"
   ]
  },
  {
   "cell_type": "code",
   "execution_count": null,
   "metadata": {},
   "outputs": [],
   "source": []
  },
  {
   "cell_type": "code",
   "execution_count": null,
   "metadata": {},
   "outputs": [],
   "source": []
  },
  {
   "cell_type": "code",
   "execution_count": null,
   "metadata": {},
   "outputs": [],
   "source": []
  }
 ],
 "metadata": {
  "kernelspec": {
   "display_name": "base",
   "language": "python",
   "name": "python3"
  },
  "language_info": {
   "codemirror_mode": {
    "name": "ipython",
    "version": 3
   },
   "file_extension": ".py",
   "mimetype": "text/x-python",
   "name": "python",
   "nbconvert_exporter": "python",
   "pygments_lexer": "ipython3",
   "version": "3.8.5"
  }
 },
 "nbformat": 4,
 "nbformat_minor": 2
}
