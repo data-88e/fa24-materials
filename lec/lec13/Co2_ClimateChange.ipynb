{
 "cells": [
  {
   "cell_type": "markdown",
   "metadata": {},
   "source": [
    "## Carbon Dioxide Emissions and Global Climate Change\n",
    "\n",
    "This notebook is a very simple analysis of global carbon emissons and global temperature change.\n",
    "\n",
    "- The first point is to load the data directly from the government agencies that manage it.   \n",
    "- The second is to plot the data and see that we are at the hightest levels of carbon emissions in history.  \n",
    "- The third is to plot the data and see that we are at the highest levels of global temperature in history.  \n",
    "- The fourth is to plot the two data series and see that there is a correlation between the two."
   ]
  },
  {
   "cell_type": "code",
   "execution_count": null,
   "metadata": {},
   "outputs": [],
   "source": [
    "import pandas as pd\n",
    "import plotly.express as px"
   ]
  },
  {
   "cell_type": "markdown",
   "metadata": {},
   "source": [
    "## Global Atmospheric Carbon Levels\n",
    "\n",
    "The CO2 data is from the Global Monitoring Laboratory of the National Oceanic and Atmospheric Administration (NOAA).  The most frequently cited data is the Mauna Loa Observatory in Hawaii.  \n",
    "\n",
    "![NOAA](https://upload.wikimedia.org/wikipedia/commons/1/11/NOAA_logo_mobile.svg)\n",
    "\n",
    "The data is available at https://www.esrl.noaa.gov/gmd/ccgg/trends/data.html.\n",
    "\n",
    "There are many data series, but we have selected monthly mean data, which are available as a csv.  \n",
    "\n",
    "Mauna Loa Obervatory is at the top of a volcano in the middle of the Pacific Ocean.  It is a good place to measure CO2 because it is far from any major sources of CO2.  The data is available from 1958 to the present.  The data is in parts per million (ppm) of CO2 in the atmosphere.  \n"
   ]
  },
  {
   "cell_type": "code",
   "execution_count": null,
   "metadata": {},
   "outputs": [],
   "source": [
    "url_mlo_co2=\"https://gml.noaa.gov/webdata/ccgg/trends/co2/co2_mm_mlo.csv\"\n",
    "\n",
    "df_mlo_co2 = pd.read_csv(url_mlo_co2, comment='#')\n",
    "\n",
    "df_mlo_co2\n"
   ]
  },
  {
   "cell_type": "markdown",
   "metadata": {},
   "source": [
    "### Let's graph the monthly level of Co2 over time to see the trend.\n",
    "\n",
    "This is potentially one of the most famous graphs in the world.  It is called the Keeling Curve, after Charles David Keeling, who started the measurements in 1958.  The graph shows the monthly mean level of CO2 in the atmosphere.  \n",
    "\n"
   ]
  },
  {
   "cell_type": "code",
   "execution_count": null,
   "metadata": {},
   "outputs": [],
   "source": [
    "\n",
    "\n",
    "fig = px.line(df_mlo_co2, x='decimal date', y='average', title='Mauna Loa CO₂ daily means')\n",
    "fig.show()\n",
    "\n"
   ]
  },
  {
   "cell_type": "markdown",
   "metadata": {},
   "source": [
    "## GISS Surface Temperature Analysis (GISTEMP v4) ##\n",
    "\n",
    "This dataset is the GISS Surface Temperature Analysis (GISTEMP v4) provided by NASA's Goddard Institute for Space Studies. The dataset is updated on a monthly basis and is available from 1880 to the present. The dataset is a combination of land-surface air temperatures and sea-surface water temperatures. The data is provided in tabular format and is available for global, hemispheric, and zonal means. The data is provided as temperature anomalies, which are deviations from the 1951-1980 means. The data is available in csv files and is updated through the most recent month.\n",
    "\n",
    "![NASA](https://www.giss.nasa.gov/gfx/2013/nasa_x2.png)\n",
    "\n",
    "The data is available from the following URL:\n",
    "https://data.giss.nasa.gov/gistemp/\n",
    "\n",
    "We have chosen the following datasets for this analysis:\n",
    "\n",
    "**Global-mean monthly, seasonal, and annual means, 1880-present, updated through most recent month**"
   ]
  },
  {
   "cell_type": "code",
   "execution_count": null,
   "metadata": {},
   "outputs": [],
   "source": [
    "url_giss_temp = 'https://data.giss.nasa.gov/gistemp/tabledata_v4/GLB.Ts+dSST.csv'\n",
    "\n",
    "giss_temp = pd.read_csv(url_giss_temp, skiprows=1)\n",
    "\n",
    "giss_temp\n"
   ]
  },
  {
   "cell_type": "markdown",
   "metadata": {},
   "source": [
    "Lets plot the data to see the trend in global temperature over time.\n",
    "\n",
    "MAM is the variable name for Monthly Anomaly Means.  The data is in degrees Celsius.  "
   ]
  },
  {
   "cell_type": "code",
   "execution_count": null,
   "metadata": {},
   "outputs": [],
   "source": [
    "fig = px.line(giss_temp, x='Year', y='MAM', title='Global temperature anomaly')\n",
    "fig.show()"
   ]
  },
  {
   "cell_type": "markdown",
   "metadata": {},
   "source": [
    "## Correlation between CO2 and Global Temperature ##\n",
    "\n",
    "Let's check the correlation between the two datasets.  \n",
    "\n",
    "First we need to cut the temperatture anomoly data to match the CO2 data.  The CO2 data is from 1958 to the present.  The temperature data is from 1880 to the present.  We will cut the temperature data to match the CO2 data.  \n",
    "\n",
    "Then we will make an annual CO2 dataset by taking the average of the monthly data.\n",
    "\n",
    "Finally we will merge the two datasets on the year.  \n",
    "\n"
   ]
  },
  {
   "cell_type": "code",
   "execution_count": null,
   "metadata": {},
   "outputs": [],
   "source": [
    "# cut temp  data to 1958 \n",
    "giss_temp = giss_temp[giss_temp['Year'] >= 1958]\n"
   ]
  },
  {
   "cell_type": "code",
   "execution_count": null,
   "metadata": {},
   "outputs": [],
   "source": [
    "# make an annual graph for the Co2 data\n",
    "#df_mlo_co2['year'] = df_mlo_co2['decimal date'].apply(lambda x: int(x))\n",
    "annual_co2 = df_mlo_co2.groupby('year').mean().reset_index()\n",
    "annual_co2"
   ]
  },
  {
   "cell_type": "code",
   "execution_count": null,
   "metadata": {},
   "outputs": [],
   "source": [
    "#merge with co2 data\n",
    "merged_co2_temp = pd.merge(annual_co2, giss_temp, left_on='year', right_on='Year')"
   ]
  },
  {
   "cell_type": "code",
   "execution_count": null,
   "metadata": {},
   "outputs": [],
   "source": [
    "merged_co2_temp"
   ]
  },
  {
   "cell_type": "code",
   "execution_count": null,
   "metadata": {},
   "outputs": [],
   "source": [
    "#graph over time using plotly for the merged data\n",
    "fig = px.scatter(merged_co2_temp, x='average', y='MAM', \n",
    "    title='CO₂ vs global temperature anomaly',\n",
    "    labels={'average':'CO₂ (ppm)', 'MAM':'Temperature anomaly (°C)'},\n",
    "    trendline='ols')\n",
    "# add a trendline\n",
    "\n",
    "\n",
    "fig.show()"
   ]
  },
  {
   "cell_type": "code",
   "execution_count": null,
   "metadata": {},
   "outputs": [],
   "source": [
    "#calculate the correlation\n",
    "correlation = merged_co2_temp['average'].corr(merged_co2_temp['MAM'])\n",
    "print(correlation)\n"
   ]
  },
  {
   "cell_type": "markdown",
   "metadata": {},
   "source": []
  },
  {
   "cell_type": "markdown",
   "metadata": {},
   "source": []
  },
  {
   "cell_type": "code",
   "execution_count": null,
   "metadata": {},
   "outputs": [],
   "source": []
  }
 ],
 "metadata": {
  "kernelspec": {
   "display_name": "base",
   "language": "python",
   "name": "python3"
  },
  "language_info": {
   "codemirror_mode": {
    "name": "ipython",
    "version": 3
   },
   "file_extension": ".py",
   "mimetype": "text/x-python",
   "name": "python",
   "nbconvert_exporter": "python",
   "pygments_lexer": "ipython3",
   "version": "3.8.5"
  }
 },
 "nbformat": 4,
 "nbformat_minor": 2
}
