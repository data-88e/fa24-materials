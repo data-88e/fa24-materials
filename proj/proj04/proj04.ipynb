{
 "cells": [
  {
   "cell_type": "code",
   "execution_count": null,
   "id": "77ea2b10",
   "metadata": {
    "deletable": false,
    "editable": false
   },
   "outputs": [],
   "source": [
    "# Initialize Otter\n",
    "import otter\n",
    "grader = otter.Notebook(\"proj04.ipynb\")"
   ]
  },
  {
   "cell_type": "markdown",
   "id": "64ccaedb",
   "metadata": {},
   "source": [
    "<table style=\"width: 100%;\" id=\"nb-header\">\n",
    "    <tr style=\"background-color: transparent;\"><td>\n",
    "        <img src=\"https://data-88e.github.io/assets/images/blue_text.png\" width=\"250px\" style=\"margin-left: 0;\" />\n",
    "    </td><td>\n",
    "        <p style=\"text-align: right; font-size: 10pt;\"><strong>Economic Models</strong>, Fall 2024<br>\n",
    "            Dr. Eric Van Dusen <br>\n",
    "        Vaidehi Bulusu <br>\n",
    "        Akhil Venkatesh <br>\n",
    "</table>"
   ]
  },
  {
   "cell_type": "markdown",
   "id": "6993e57d",
   "metadata": {},
   "source": [
    "# Project 4: Econometrics\n",
    "\n",
    "In the textbook and this week's lecture, we gave you a theoretical introduction to econometrics. In this project, you'll get the chance to apply what you've learned and see how econometrics is actually used by economists!\n",
    "\n",
    "This project is based on an influential study on the relationship between a person's height and labor market outcomes, and is divided into 3 sections:\n",
    "\n",
    "1. Simple Linear Regression\n",
    "\n",
    "2. Multiple Linear Regression\n",
    "\n",
    "3. Reading Econometrics Tables\n",
    "\n",
    "You can refer to the [*Econometrics*](https://data-88e.github.io/textbook/content/11-econometrics/index.html) chapter in the textbook and week 11 resources for help on this project."
   ]
  },
  {
   "cell_type": "code",
   "execution_count": null,
   "id": "9c2a94d1",
   "metadata": {},
   "outputs": [],
   "source": [
    "from datascience import *\n",
    "import numpy as np\n",
    "import pandas as pd\n",
    "import statsmodels.api as sm"
   ]
  },
  {
   "cell_type": "markdown",
   "id": "b7036820",
   "metadata": {},
   "source": [
    " ## Part 1: Simple Linear Regression\n",
    "\n",
    "Several studies have identified a positive correlation between a person's height and labor market outcomes: on average, taller people have jobs that are of a higher status and pay more. In their paper, *[Stature and Status:\n",
    "Height, Ability, and Labor Market Outcomes](https://www.nber.org/system/files/working_papers/w12466/w12466.pdf)* (2008), economists Anne Case and Christina Paxson analyze the data from the US National Health Interview Survey in 1994 to explain this association. This is the data we will be using for our analysis.\n",
    "\n",
    "In the first part of the project, we will use simple (bivariate) linear regression to look at the association between a person's height and earnings, and consider the problems with limiting our regression model to just 1 regressor.\n",
    "\n",
    "We start by importing the `earnings.csv` dataset which contains information about the characteristics and labor market outcomes for 17,870 workers."
   ]
  },
  {
   "cell_type": "code",
   "execution_count": null,
   "id": "c0ed4a00",
   "metadata": {},
   "outputs": [],
   "source": [
    "earnings = Table().read_table(\"earnings.csv\")\n",
    "earnings.show(5)"
   ]
  },
  {
   "cell_type": "markdown",
   "id": "9caa7961",
   "metadata": {},
   "source": [
    "<div class=\"alert alert-warning\">\n",
    "    \n",
    "Before proceeding, please read the <a href=\"https://www.princeton.edu/~mwatson/Stock-Watson_3u/Students/EE_Datasets/Earnings_and_Height_Description.pdf\" target=\"_blank\">data description</a> for this study which gives you information about each variable. **This is very important.**\n",
    "    \n",
    "</div>"
   ]
  },
  {
   "cell_type": "markdown",
   "id": "21449b8a",
   "metadata": {
    "deletable": false,
    "editable": false
   },
   "source": [
    "<!-- BEGIN QUESTION -->\n",
    "\n",
    "**Question 1.1:** What do you expect the sign of the relationship between height and earnings to be? Explain your answer.\n"
   ]
  },
  {
   "cell_type": "markdown",
   "id": "08447c8f",
   "metadata": {},
   "source": [
    "_Type your answer here, replacing this text._"
   ]
  },
  {
   "cell_type": "markdown",
   "id": "edd856d2",
   "metadata": {
    "deletable": false,
    "editable": false
   },
   "source": [
    "<!-- END QUESTION -->\n",
    "\n",
    "Note: We generally take the log of earnings in regression models but we’re not doing that in this project for the sake of simplicity. We’ll be using log earnings as the dependent variable in section 3."
   ]
  },
  {
   "cell_type": "markdown",
   "id": "c3e3e76f",
   "metadata": {
    "deletable": false,
    "editable": false
   },
   "source": [
    "**Question 1.2:** Here's a simple linear regression equation to model the association between height and earnings:\n",
    "\n",
    "$$\\text{Earnings} = \\beta_1 \\times \\text{Height} + \\alpha$$\n",
    "\n",
    "Perform a regression of `earnings` on `height`. Don't forget to add a constant term!\n"
   ]
  },
  {
   "cell_type": "code",
   "execution_count": null,
   "id": "4b25e3cf",
   "metadata": {
    "tags": []
   },
   "outputs": [],
   "source": [
    "y_1_2 = ...\n",
    "x_1_2 = ...\n",
    "model_1_2 = ...\n",
    "results_1_2 = ...\n",
    "results_1_2.summary()"
   ]
  },
  {
   "cell_type": "code",
   "execution_count": null,
   "id": "5bc132a9",
   "metadata": {
    "deletable": false,
    "editable": false
   },
   "outputs": [],
   "source": [
    "grader.check(\"q1_2\")"
   ]
  },
  {
   "cell_type": "markdown",
   "id": "84c2b20e",
   "metadata": {
    "deletable": false,
    "editable": false
   },
   "source": [
    "**Question 1.3:**\n",
    "Why should we include a constant term in this regression model?\n",
    "\n",
    "<ol type=\"A\" style=\"list-style-type: lower-alpha;\">\n",
    "    <li>Because we expect the slope of the line of best fit may be zero.  </li>\n",
    "    <li>Because we expect the slope of the line of best fit may be non-zero.  </li>\n",
    "    <li>Because we expect the x-intercept of the line of best fit may be non-zero.  </li>\n",
    "    <li>Because we expect the y-intercept of the line of best fit may be non-zero.  </li>\n",
    "</ol>\n",
    "\n",
    "Assign a letter corresponding to your answer to `q1_3` below. For example, `q1_3 = 'a'`.\n"
   ]
  },
  {
   "cell_type": "code",
   "execution_count": null,
   "id": "e3d77da1",
   "metadata": {
    "tags": []
   },
   "outputs": [],
   "source": [
    "q1_3 = ..."
   ]
  },
  {
   "cell_type": "code",
   "execution_count": null,
   "id": "0723bddf",
   "metadata": {
    "deletable": false,
    "editable": false
   },
   "outputs": [],
   "source": [
    "grader.check(\"q1_3\")"
   ]
  },
  {
   "cell_type": "markdown",
   "id": "a061f524",
   "metadata": {
    "deletable": false,
    "editable": false
   },
   "source": [
    "**Question 1.4:** What is the estimated association between `earnings` and `height`?\n"
   ]
  },
  {
   "cell_type": "code",
   "execution_count": null,
   "id": "72c956da",
   "metadata": {
    "tags": []
   },
   "outputs": [],
   "source": [
    "result_1_4 = ...\n",
    "result_1_4"
   ]
  },
  {
   "cell_type": "code",
   "execution_count": null,
   "id": "f5e85809",
   "metadata": {
    "deletable": false,
    "editable": false
   },
   "outputs": [],
   "source": [
    "grader.check(\"q1_4\")"
   ]
  },
  {
   "cell_type": "markdown",
   "id": "3446d81c",
   "metadata": {
    "deletable": false,
    "editable": false
   },
   "source": [
    "**Question 1.5:** Is the association statistically significant? Answer `True` or `False`.\n"
   ]
  },
  {
   "cell_type": "code",
   "execution_count": null,
   "id": "41f57686",
   "metadata": {
    "tags": []
   },
   "outputs": [],
   "source": [
    "result_1_5 = ...\n",
    "result_1_5"
   ]
  },
  {
   "cell_type": "code",
   "execution_count": null,
   "id": "1d3d7d13",
   "metadata": {
    "deletable": false,
    "editable": false
   },
   "outputs": [],
   "source": [
    "grader.check(\"q1_5\")"
   ]
  },
  {
   "cell_type": "markdown",
   "id": "6ca4cd9b",
   "metadata": {
    "deletable": false,
    "editable": false
   },
   "source": [
    "**Question 1.6:** Interpret the slope on the `height` variable (including the units). \n",
    "\n",
    "<ol type=\"A\" style=\"list-style-type: lower-alpha;\">\n",
    "    <li>A 1 inch increase in height corresponds to around a \\$707.7 increase in earnings  </li>\n",
    "    <li>A 1 inch increase in height corresponds to around a \\$707.7 decrease in earnings  </li>\n",
    "    <li>A 1% increase in height corresponds to around a \\$707.7 increase in earnings  </li>\n",
    "    <li>A 1% increase in height corresponds to around a \\$707.7 decrease in earnings  </li>\n",
    "</ol>\n",
    "\n",
    "Assign a letter corresponding to your answer to `q1_6` below. For example, `q1_6 = 'a'`.\n"
   ]
  },
  {
   "cell_type": "code",
   "execution_count": null,
   "id": "db307d37",
   "metadata": {
    "tags": []
   },
   "outputs": [],
   "source": [
    "q1_6 = ..."
   ]
  },
  {
   "cell_type": "code",
   "execution_count": null,
   "id": "dfdee274",
   "metadata": {
    "deletable": false,
    "editable": false
   },
   "outputs": [],
   "source": [
    "grader.check(\"q1_6\")"
   ]
  },
  {
   "cell_type": "markdown",
   "id": "a77ae0ec",
   "metadata": {
    "deletable": false,
    "editable": false
   },
   "source": [
    "**Question 1.7:** Interpret the intercept of the regression (including the units). Does this make practical sense? \n",
    "\n",
    "<ol type=\"A\" style=\"list-style-type: lower-alpha;\">\n",
    "    <li>When height is 0, earnings are estimated to be around -\\$512.7.  </li>\n",
    "    <li>When height is 0, earnings are estimated to be around \\$512.7.  </li>\n",
    "    <li>When earnings are 0, height is estimated to be around -512.7 inches.  </li>\n",
    "    <li>When earnings are 0, height is estimated to be around 512.7 inches.  </li>\n",
    "</ol>\n",
    "\n",
    "Assign a letter corresponding to your answer to `q1_7` below. For example, `q1_7 = 'a'`.\n"
   ]
  },
  {
   "cell_type": "code",
   "execution_count": null,
   "id": "5864501b",
   "metadata": {
    "tags": []
   },
   "outputs": [],
   "source": [
    "q1_7 = ..."
   ]
  },
  {
   "cell_type": "code",
   "execution_count": null,
   "id": "94aae54c",
   "metadata": {
    "deletable": false,
    "editable": false
   },
   "outputs": [],
   "source": [
    "grader.check(\"q1_7\")"
   ]
  },
  {
   "cell_type": "markdown",
   "id": "bd8976ad",
   "metadata": {
    "deletable": false,
    "editable": false
   },
   "source": [
    "<!-- BEGIN QUESTION -->\n",
    "\n",
    "**Question 1.8:** If the slope on the independent variable is statistically significant, can we infer a causal relationship between the two variables? Why or why not? When can you infer a causal relationship between 2 variables based on the results of the study?\n",
    "\n",
    "*Hint: Think about the type of study we're looking at.*\n"
   ]
  },
  {
   "cell_type": "markdown",
   "id": "0307cc04",
   "metadata": {},
   "source": [
    "_Type your answer here, replacing this text._"
   ]
  },
  {
   "cell_type": "markdown",
   "id": "7bcfff4a",
   "metadata": {
    "deletable": false,
    "editable": false
   },
   "source": [
    "<!-- END QUESTION -->\n",
    "\n",
    "**Question 1.9:** Use the slope and intercept from the regression in question 1.2 to generate predictions for `earnings`.\n"
   ]
  },
  {
   "cell_type": "code",
   "execution_count": null,
   "id": "e61574bc",
   "metadata": {
    "tags": []
   },
   "outputs": [],
   "source": [
    "predictions_1_9 = ...\n",
    "predictions_1_9"
   ]
  },
  {
   "cell_type": "code",
   "execution_count": null,
   "id": "75b48ed7",
   "metadata": {
    "deletable": false,
    "editable": false
   },
   "outputs": [],
   "source": [
    "grader.check(\"q1_9\")"
   ]
  },
  {
   "cell_type": "markdown",
   "id": "b0896731",
   "metadata": {
    "deletable": false,
    "editable": false
   },
   "source": [
    "**Question 1.10:** Calculate the RMSE for your regression predictions from question 1.9.\n"
   ]
  },
  {
   "cell_type": "code",
   "execution_count": null,
   "id": "048a3aa9",
   "metadata": {
    "tags": []
   },
   "outputs": [],
   "source": [
    "rmse_1_10 = ...\n",
    "rmse_1_10"
   ]
  },
  {
   "cell_type": "code",
   "execution_count": null,
   "id": "f7f04dfe",
   "metadata": {
    "deletable": false,
    "editable": false
   },
   "outputs": [],
   "source": [
    "grader.check(\"q1_10\")"
   ]
  },
  {
   "cell_type": "markdown",
   "id": "5857a733",
   "metadata": {
    "deletable": false,
    "editable": false
   },
   "source": [
    "**Question 1.11:** Which one of the following is true about the RMSE? \n",
    "\n",
    "<ol type=\"A\" style=\"list-style-type: lower-alpha;\">\n",
    "    <li>RMSE is the total sum of squared error in the regression.   </li>\n",
    "    <li>RMSE means that on average the predicted earnings are off by $26,775.7.  </li>\n",
    "    <li>It is possible for the RMSE to increase if we add unrelated variables to the regression.  </li>\n",
    "    <li>Higher RMSE means the model more accurately predicts the dependent variable.  </li>\n",
    "</ol>\n",
    "\n",
    "Assign a letter corresponding to your answer to `q1_11` below. For example, `q1_11 = 'a'`.\n"
   ]
  },
  {
   "cell_type": "code",
   "execution_count": null,
   "id": "d8603d99",
   "metadata": {
    "tags": []
   },
   "outputs": [],
   "source": [
    "q1_11 = ..."
   ]
  },
  {
   "cell_type": "code",
   "execution_count": null,
   "id": "d4d276e1",
   "metadata": {
    "deletable": false,
    "editable": false
   },
   "outputs": [],
   "source": [
    "grader.check(\"q1_11\")"
   ]
  },
  {
   "cell_type": "markdown",
   "id": "055ee37f",
   "metadata": {},
   "source": [
    "## Part 2: Multiple Linear Regression\n",
    "\n",
    "Now, let's perform multiple linear regression to account for potential confounding variables in our model. For simplicity, we will be using only the following additional regressors: `age`, `educ`, `sex` and `weight`."
   ]
  },
  {
   "cell_type": "markdown",
   "id": "c0ee58bb",
   "metadata": {
    "deletable": false,
    "editable": false
   },
   "source": [
    "<!-- BEGIN QUESTION -->\n",
    "\n",
    "**Question 2.1:** Pick 2 variables from the 4 additional variables we will be incorporating in the model (`age`, `educ`, `sex` and `weight`) that you think might be potential confounders in the study. Provide a brief explanation for why you think each of the variables may be a confounder. \n",
    "\n",
    "*Hint: Recall that a confounder is related to both the independent and dependent variables, so in your answer, make sure to talk about how each confounder is related to `height` and `weight`.*\n"
   ]
  },
  {
   "cell_type": "markdown",
   "id": "326683f0",
   "metadata": {},
   "source": [
    "_Type your answer here, replacing this text._"
   ]
  },
  {
   "cell_type": "markdown",
   "id": "fac23fcf",
   "metadata": {
    "deletable": false,
    "editable": false
   },
   "source": [
    "<!-- END QUESTION -->\n",
    "\n",
    "**Question 2.2:** Perform another regression with the following new regressors: `age`, `educ`, `sex` and `weight` (also include `height`).\n"
   ]
  },
  {
   "cell_type": "code",
   "execution_count": null,
   "id": "10fa62f7",
   "metadata": {
    "tags": []
   },
   "outputs": [],
   "source": [
    "y_2_2 = ...\n",
    "x_2_2 = ...\n",
    "model_2_2 = ...\n",
    "results_2_2 = ...\n",
    "results_2_2.summary()"
   ]
  },
  {
   "cell_type": "code",
   "execution_count": null,
   "id": "0e2b199d",
   "metadata": {
    "deletable": false,
    "editable": false
   },
   "outputs": [],
   "source": [
    "grader.check(\"q2_2\")"
   ]
  },
  {
   "cell_type": "markdown",
   "id": "5bc9ad6a",
   "metadata": {
    "deletable": false,
    "editable": false
   },
   "source": [
    "**Question 2.3:** Compare the coefficient on `height` from the regression model in question 2.2 to the coefficient on `height` from the regression model in question 1.2. What does this tell you about the nature of the omitted variable bias in the previous model (is it positive or negative)?\n",
    "\n",
    "Fill in the blanks: The coefficient in 2.2 is \\_\\_\\_\\_\\_ which means that the omitted variable bias in 1.2 is overall \\_\\_\\_\\_\\_. \n",
    "\n",
    "<ol type=\"A\" style=\"list-style-type: lower-alpha;\">\n",
    "    <li>higher; positive</li>\n",
    "    <li>lower; positive</li>\n",
    "    <li>higher; negative</li>\n",
    "    <li>lower; negative</li>\n",
    "</ol>\n",
    "\n",
    "Assign a letter corresponding to your answer to `q2_3` below. For example, `q2_3 = 'a'`.\n"
   ]
  },
  {
   "cell_type": "code",
   "execution_count": null,
   "id": "fb627d0f",
   "metadata": {
    "tags": []
   },
   "outputs": [],
   "source": [
    "q2_3 = ..."
   ]
  },
  {
   "cell_type": "code",
   "execution_count": null,
   "id": "26538151",
   "metadata": {
    "deletable": false,
    "editable": false
   },
   "outputs": [],
   "source": [
    "grader.check(\"q2_3\")"
   ]
  },
  {
   "cell_type": "markdown",
   "id": "13ce364e",
   "metadata": {
    "deletable": false,
    "editable": false
   },
   "source": [
    "<!-- BEGIN QUESTION -->\n",
    "\n",
    "**Question 2.4:** Look at the regression coefficients for the additional variables we included in question 2.2. Do the coefficients align with your intuition from 2.1 (in terms how they are related to earnings)?\n"
   ]
  },
  {
   "cell_type": "markdown",
   "id": "02ce1532",
   "metadata": {},
   "source": [
    "_Type your answer here, replacing this text._"
   ]
  },
  {
   "cell_type": "markdown",
   "id": "3af64c84",
   "metadata": {
    "deletable": false,
    "editable": false
   },
   "source": [
    "<!-- END QUESTION -->\n",
    "\n",
    "<!-- BEGIN QUESTION -->\n",
    "\n",
    "**Question 2.5:** Let's consider the effect of education on earnings. According to the result in 2.2, is the level of education correlated with earnings? Does adding this variable help alleviate omitted variable bias? Why or why not? Explain your answers. \n"
   ]
  },
  {
   "cell_type": "markdown",
   "id": "8b86bba9",
   "metadata": {},
   "source": [
    "_Type your answer here, replacing this text._"
   ]
  },
  {
   "cell_type": "markdown",
   "id": "0efa51a9",
   "metadata": {
    "deletable": false,
    "editable": false
   },
   "source": [
    "<!-- END QUESTION -->\n",
    "\n",
    "**Question 2.6:** If we computed the RMSE for this new regression model, do you think it would be higher or lower than the RMSE we computed in 1.10? \n",
    "\n",
    "<ol type=\"A\" style=\"list-style-type: lower-alpha;\">\n",
    "    <li>Lower</li>\n",
    "    <li>Higher</li>\n",
    "    <li>It depends on the specific choice of variables </li>\n",
    "</ol>\n",
    "\n",
    "Assign a letter corresponding to your answer to `q2_6` below. For example, `q2_6 = 'a'`.\n"
   ]
  },
  {
   "cell_type": "code",
   "execution_count": null,
   "id": "3be3f5cc",
   "metadata": {
    "tags": []
   },
   "outputs": [],
   "source": [
    "q2_6 = ..."
   ]
  },
  {
   "cell_type": "code",
   "execution_count": null,
   "id": "2e4a9c28",
   "metadata": {
    "deletable": false,
    "editable": false
   },
   "outputs": [],
   "source": [
    "grader.check(\"q2_6\")"
   ]
  },
  {
   "cell_type": "markdown",
   "id": "50d58a8c",
   "metadata": {
    "deletable": false,
    "editable": false
   },
   "source": [
    "**Question 2.7:** Now that we've accounted for some additional confounding variables do you think it makes sense for us to infer a causal relationship between height and earnings?\n",
    "\n",
    "<ol type=\"A\" style=\"list-style-type: lower-alpha;\">\n",
    "    <li>Yes, because the coefficient for height is now highly significant. </li>\n",
    "    <li>Yes, because we have eliminated omitted variable bias by adding control variables in 2.2. </li>\n",
    "    <li>No, because there may be other omitted variables we haven't accounted for.</li>\n",
    "    <li>No, because the set of control variables added in 2.2 is a poor choice. </li>\n",
    "</ol>\n",
    "\n",
    "Assign a letter corresponding to your answer to `q2_7` below. For example, `q2_7 = 'a'`.\n"
   ]
  },
  {
   "cell_type": "code",
   "execution_count": null,
   "id": "da49f33e",
   "metadata": {
    "tags": []
   },
   "outputs": [],
   "source": [
    "q2_7 = ..."
   ]
  },
  {
   "cell_type": "code",
   "execution_count": null,
   "id": "9c247c88",
   "metadata": {
    "deletable": false,
    "editable": false
   },
   "outputs": [],
   "source": [
    "grader.check(\"q2_7\")"
   ]
  },
  {
   "cell_type": "markdown",
   "id": "0cb4239b",
   "metadata": {
    "deletable": false,
    "editable": false
   },
   "source": [
    "**Question 2.8:** Using regression results in 2.2, now let’s try to predict a person’s earnings based on their characteristics.\n",
    "\n",
    "What would the predicted earnings of a 35-year-old woman with a Bachelor's degree who is 64 inches tall and 124 pounds?\n",
    "\n",
    "*Hint: A person with a Bachelor's degree has completed 15 years of education.*\n"
   ]
  },
  {
   "cell_type": "code",
   "execution_count": null,
   "id": "702f75e8",
   "metadata": {
    "tags": []
   },
   "outputs": [],
   "source": [
    "prediction_2_8 = ...\n",
    "prediction_2_8"
   ]
  },
  {
   "cell_type": "code",
   "execution_count": null,
   "id": "cf2dbc6a",
   "metadata": {
    "deletable": false,
    "editable": false
   },
   "outputs": [],
   "source": [
    "grader.check(\"q2_8\")"
   ]
  },
  {
   "cell_type": "markdown",
   "id": "39ee2c85",
   "metadata": {
    "deletable": false,
    "editable": false
   },
   "source": [
    "**Question 2.9:** Say you wanted to know the relationship between gender (`sex`: a binary variable) and income (`earnings`: a continuous variable). Based on our regression results, how is gender correlated with income?\n",
    "\n",
    "*Hint*: Think about what it means when the coefficient of `sex` is 0 and 1. Also, you can try changing your input for `sex` in 2.8, and see what happens.\n",
    "\n",
    "Assuming all else equal, ...\n",
    "\n",
    "<ol type=\"A\" style=\"list-style-type: lower-alpha;\">\n",
    "    <li>On average, male earns \\$586.92 more than female. </li>\n",
    "    <li>On average, female earns \\$586.92 more than male. </li>\n",
    "    <li>For every 1 inch increase in height, male's income will increase on average \\$586.92 more than that of female. </li>\n",
    "    <li>For every 1 inch increase in height, female's income will increase on average \\$586.92 more than that of male. </li>\n",
    "</ol>\n",
    "\n",
    "Assign a letter corresponding to your answer to `q2_9` below. For example, `q2_9 = 'a'`.\n"
   ]
  },
  {
   "cell_type": "code",
   "execution_count": null,
   "id": "52f9a0cd",
   "metadata": {
    "tags": []
   },
   "outputs": [],
   "source": [
    "q2_9 = ..."
   ]
  },
  {
   "cell_type": "code",
   "execution_count": null,
   "id": "55a7b425",
   "metadata": {
    "deletable": false,
    "editable": false
   },
   "outputs": [],
   "source": [
    "grader.check(\"q2_9\")"
   ]
  },
  {
   "cell_type": "markdown",
   "id": "ca6a6940",
   "metadata": {},
   "source": [
    "## Part 3: Reading Econometrics Tables"
   ]
  },
  {
   "cell_type": "markdown",
   "id": "54788386",
   "metadata": {},
   "source": [
    "Researchers tend to run multiple regression models which they summarize in econometrics tables.\n",
    "\n",
    "Below is a table taken from the paper. It shows the regression results from 2 studies on the relationship between height and earnings: the British Cohort Study (BCS) and National Child Development Study (NCDS).\n",
    "\n",
    "<img src = \"https://i.imgur.com/a2o9OPA.png\">"
   ]
  },
  {
   "cell_type": "markdown",
   "id": "80d2185f",
   "metadata": {},
   "source": [
    "<div class=\"alert alert-warning\">\n",
    "    \n",
    "Make sure to read the table (including the note at the bottom) before proceeding.\n",
    "    \n",
    "</div>"
   ]
  },
  {
   "cell_type": "markdown",
   "id": "92a95ca1",
   "metadata": {},
   "source": [
    "Note that for the questions below, **log earnings** is the dependent variable. Recall the [interpretation of the slope](https://data-88e.github.io/textbook/content/01-demand/03-log-log.html) in this case."
   ]
  },
  {
   "cell_type": "markdown",
   "id": "f797be53",
   "metadata": {
    "deletable": false,
    "editable": false
   },
   "source": [
    "**Question 3.1:** According to the table, what did the British Cohort Study (1970) find about the relationship between height at age 30, test scores ages 5 and 10, and earnings for women? Use the results with extended controls added in. Which of the followings are correct? There can be 1-4 correct answers. \n",
    "\n",
    "<ol type=\"A\" style=\"list-style-type: lower-alpha;\">\n",
    "    <li>The coefficient on height is statistically significant. </li>\n",
    "    <li>The coefficient on height means for every 1 inch increase in height at age 30, the annual earnings will on average increase by 0.002 dollars. </li>\n",
    "    <li>The coefficient on test scores is statistically significant. </li>\n",
    "    <li>The coefficient on test scores means for every 1 point increase in test scores ages 5 and 10, the annual earnings will on average increase by 19.75 dollars. </li>\n",
    "</ol>\n",
    "\n",
    "Assign an array of letters corresponding to your answer to `q3_1` below. For example, `q3_1 = make_array('a', 'b', 'c', 'd')`.\n"
   ]
  },
  {
   "cell_type": "code",
   "execution_count": null,
   "id": "aa702b36",
   "metadata": {
    "tags": []
   },
   "outputs": [],
   "source": [
    "q3_1 = ..."
   ]
  },
  {
   "cell_type": "code",
   "execution_count": null,
   "id": "f450018b",
   "metadata": {
    "deletable": false,
    "editable": false
   },
   "outputs": [],
   "source": [
    "grader.check(\"q3_1\")"
   ]
  },
  {
   "cell_type": "markdown",
   "id": "3696e1a1",
   "metadata": {
    "deletable": false,
    "editable": false
   },
   "source": [
    "<!-- BEGIN QUESTION -->\n",
    "\n",
    "**Question 3.2:** Now look at the results of the British Cohort Study for men. There are 3 coefficients reported for height at age 30. Give a brief interpretation of each of these coefficients (including the units). In your explanation, talk about what is causing the differences among these coefficients (hint: look at the *Test scores* and *Extended controls* rows).\n",
    "\n",
    "Note: Assume height is measured in inches for this study.\n"
   ]
  },
  {
   "cell_type": "markdown",
   "id": "a5a784aa",
   "metadata": {},
   "source": [
    "_Type your answer here, replacing this text._"
   ]
  },
  {
   "cell_type": "markdown",
   "id": "e4355e80",
   "metadata": {
    "deletable": false,
    "editable": false
   },
   "source": [
    "<!-- END QUESTION -->\n",
    "\n",
    "## Conclusion"
   ]
  },
  {
   "cell_type": "markdown",
   "id": "e6f5a56c",
   "metadata": {},
   "source": [
    "This brings us to the end of project 4! You've learned some key econometrics skills such as running regressions and reading econometrics tables. You've also developed an intuition for ordinary linear regression, omitted variable bias and regression with dummy variables.\n",
    "\n",
    "Also, we didn't cover a large part of Case and Paxson's [fascinating study](https://www.nber.org/system/files/working_papers/w12466/w12466.pdf) so if you're interested in how they explain the positive association between height and earnings, we recommend giving the paper a read!\n",
    "\n",
    "Congratulations on finishing your final DATA 88E project! We're so proud of you!\n",
    "\n",
    "If you have any feedback for us, we'd love to hear it! Feel free to reach out to Akhil at akhil.v@berkeley.edu or make a post on Ed!"
   ]
  },
  {
   "cell_type": "markdown",
   "id": "04c7283d",
   "metadata": {},
   "source": [
    "---"
   ]
  },
  {
   "cell_type": "markdown",
   "id": "cb22bc60",
   "metadata": {
    "deletable": false,
    "editable": false
   },
   "source": [
    "## Submission\n",
    "\n",
    "Make sure you have run all cells in your notebook in order before running the cell below, so that all images/graphs appear in the output. The cell below will generate a zip file for you to submit. **Please save before exporting!**"
   ]
  },
  {
   "cell_type": "code",
   "execution_count": null,
   "id": "4218733b",
   "metadata": {
    "deletable": false,
    "editable": false
   },
   "outputs": [],
   "source": [
    "# Save your notebook first, then run this cell to export your submission.\n",
    "grader.export(run_tests=True)"
   ]
  },
  {
   "cell_type": "markdown",
   "id": "8fa6a7fc",
   "metadata": {},
   "source": [
    " "
   ]
  }
 ],
 "metadata": {
  "kernelspec": {
   "display_name": "Python 3 (ipykernel)",
   "language": "python",
   "name": "python3"
  },
  "language_info": {
   "codemirror_mode": {
    "name": "ipython",
    "version": 3
   },
   "file_extension": ".py",
   "mimetype": "text/x-python",
   "name": "python",
   "nbconvert_exporter": "python",
   "pygments_lexer": "ipython3",
   "version": "3.12.2"
  },
  "otter": {
   "OK_FORMAT": true,
   "tests": {
    "q1_10": {
     "name": "q1_10",
     "points": null,
     "suites": [
      {
       "cases": [
        {
         "code": ">>> 10000 < rmse_1_10 < 50000\nTrue",
         "hidden": false,
         "locked": false
        }
       ],
       "scored": true,
       "setup": "",
       "teardown": "",
       "type": "doctest"
      }
     ]
    },
    "q1_11": {
     "name": "q1_11",
     "points": [
      0
     ],
     "suites": [
      {
       "cases": [
        {
         "code": ">>> q1_11 in ['a', 'b', 'c', 'd']\nTrue",
         "hidden": false,
         "locked": false
        }
       ],
       "scored": true,
       "setup": "",
       "teardown": "",
       "type": "doctest"
      }
     ]
    },
    "q1_2": {
     "name": "q1_2",
     "points": null,
     "suites": [
      {
       "cases": [
        {
         "code": ">>> len(results_1_2.params) == 2\nTrue",
         "hidden": false,
         "locked": false
        },
        {
         "code": ">>> np.count_nonzero(y_1_2) == 17870\nTrue",
         "hidden": false,
         "locked": false
        },
        {
         "code": ">>> 100 < np.sum(results_1_2.params) < 200\nTrue",
         "hidden": false,
         "locked": false
        }
       ],
       "scored": true,
       "setup": "",
       "teardown": "",
       "type": "doctest"
      }
     ]
    },
    "q1_3": {
     "name": "q1_3",
     "points": [
      0
     ],
     "suites": [
      {
       "cases": [
        {
         "code": ">>> q1_3 in ['a', 'b', 'c', 'd']\nTrue",
         "hidden": false,
         "locked": false
        }
       ],
       "scored": true,
       "setup": "",
       "teardown": "",
       "type": "doctest"
      }
     ]
    },
    "q1_4": {
     "name": "q1_4",
     "points": null,
     "suites": [
      {
       "cases": [
        {
         "code": ">>> type(result_1_4) == float\nFalse",
         "hidden": false,
         "locked": false
        }
       ],
       "scored": true,
       "setup": "",
       "teardown": "",
       "type": "doctest"
      }
     ]
    },
    "q1_5": {
     "name": "q1_5",
     "points": null,
     "suites": [
      {
       "cases": [
        {
         "code": ">>> type(result_1_5) == bool\nTrue",
         "hidden": false,
         "locked": false
        }
       ],
       "scored": true,
       "setup": "",
       "teardown": "",
       "type": "doctest"
      }
     ]
    },
    "q1_6": {
     "name": "q1_6",
     "points": [
      0
     ],
     "suites": [
      {
       "cases": [
        {
         "code": ">>> q1_6 in ['a', 'b', 'c', 'd']\nTrue",
         "hidden": false,
         "locked": false
        }
       ],
       "scored": true,
       "setup": "",
       "teardown": "",
       "type": "doctest"
      }
     ]
    },
    "q1_7": {
     "name": "q1_7",
     "points": [
      0
     ],
     "suites": [
      {
       "cases": [
        {
         "code": ">>> q1_7 in ['a', 'b', 'c', 'd']\nTrue",
         "hidden": false,
         "locked": false
        }
       ],
       "scored": true,
       "setup": "",
       "teardown": "",
       "type": "doctest"
      }
     ]
    },
    "q1_9": {
     "name": "q1_9",
     "points": [
      0
     ],
     "suites": [
      {
       "cases": [
        {
         "code": ">>> len(predictions_1_9) == 17870\nTrue",
         "hidden": false,
         "locked": false
        }
       ],
       "scored": true,
       "setup": "",
       "teardown": "",
       "type": "doctest"
      }
     ]
    },
    "q2_2": {
     "name": "q2_2",
     "points": null,
     "suites": [
      {
       "cases": [
        {
         "code": ">>> len(results_2_2.params) == 6\nTrue",
         "hidden": false,
         "locked": false
        },
        {
         "code": ">>> 4000 < np.sum(results_2_2.params[1:]) < 8000\nTrue",
         "hidden": false,
         "locked": false
        }
       ],
       "scored": true,
       "setup": "",
       "teardown": "",
       "type": "doctest"
      }
     ]
    },
    "q2_3": {
     "name": "q2_3",
     "points": [
      0
     ],
     "suites": [
      {
       "cases": [
        {
         "code": ">>> q2_3 in ['a', 'b', 'c', 'd']\nTrue",
         "hidden": false,
         "locked": false
        }
       ],
       "scored": true,
       "setup": "",
       "teardown": "",
       "type": "doctest"
      }
     ]
    },
    "q2_6": {
     "name": "q2_6",
     "points": [
      0
     ],
     "suites": [
      {
       "cases": [
        {
         "code": ">>> q2_6 in ['a', 'b', 'c']\nTrue",
         "hidden": false,
         "locked": false
        }
       ],
       "scored": true,
       "setup": "",
       "teardown": "",
       "type": "doctest"
      }
     ]
    },
    "q2_7": {
     "name": "q2_7",
     "points": [
      0
     ],
     "suites": [
      {
       "cases": [
        {
         "code": ">>> q2_7 in ['a', 'b', 'c', 'd']\nTrue",
         "hidden": false,
         "locked": false
        }
       ],
       "scored": true,
       "setup": "",
       "teardown": "",
       "type": "doctest"
      }
     ]
    },
    "q2_8": {
     "name": "q2_8",
     "points": null,
     "suites": [
      {
       "cases": [
        {
         "code": ">>> 20000 < prediction_2_8 < 50000\nTrue",
         "hidden": false,
         "locked": false
        }
       ],
       "scored": true,
       "setup": "",
       "teardown": "",
       "type": "doctest"
      }
     ]
    },
    "q2_9": {
     "name": "q2_9",
     "points": [
      0
     ],
     "suites": [
      {
       "cases": [
        {
         "code": ">>> q2_9 in ['a', 'b', 'c', 'd']\nTrue",
         "hidden": false,
         "locked": false
        }
       ],
       "scored": true,
       "setup": "",
       "teardown": "",
       "type": "doctest"
      }
     ]
    },
    "q3_1": {
     "name": "q3_1",
     "points": [
      0,
      0
     ],
     "suites": [
      {
       "cases": [
        {
         "code": ">>> len(q3_1) > 0\nTrue",
         "hidden": false,
         "locked": false
        },
        {
         "code": ">>> np.all([x in ['a', 'b', 'c', 'd'] for x in q3_1])\nTrue",
         "hidden": false,
         "locked": false
        }
       ],
       "scored": true,
       "setup": "",
       "teardown": "",
       "type": "doctest"
      }
     ]
    }
   }
  }
 },
 "nbformat": 4,
 "nbformat_minor": 5
}
